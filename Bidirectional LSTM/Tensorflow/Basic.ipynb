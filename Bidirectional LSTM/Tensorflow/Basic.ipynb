{
  "nbformat": 4,
  "nbformat_minor": 0,
  "metadata": {
    "colab": {
      "provenance": [],
      "gpuType": "T4"
    },
    "kernelspec": {
      "name": "python3",
      "display_name": "Python 3"
    },
    "language_info": {
      "name": "python"
    },
    "accelerator": "GPU"
  },
  "cells": [
    {
      "cell_type": "code",
      "source": [
        "from keras.models import Model\n",
        "from keras.layers import Input, LSTM, Bidirectional\n",
        "import numpy as np\n",
        "import matplotlib.pyplot as plt\n",
        "%matplotlib inline"
      ],
      "metadata": {
        "id": "MXdpZ1GKBXRm"
      },
      "execution_count": 1,
      "outputs": []
    },
    {
      "cell_type": "markdown",
      "source": [
        "# 1-When retrun_sequences = True, return_state = False"
      ],
      "metadata": {
        "id": "NI0o_ZbsCNfI"
      }
    },
    {
      "cell_type": "code",
      "source": [
        "T = 4  # time steps\n",
        "D = 2 # features\n",
        "H = 3 # LSTM Units"
      ],
      "metadata": {
        "id": "rgqV4oC3CQ23"
      },
      "execution_count": 2,
      "outputs": []
    },
    {
      "cell_type": "code",
      "source": [
        "#Create Input Data\n",
        "X = np.random.randn(1, T, D)\n",
        "print(\"Input shape\", X.shape)"
      ],
      "metadata": {
        "colab": {
          "base_uri": "https://localhost:8080/"
        },
        "id": "xmnGsXDLCS0r",
        "outputId": "e69c7be3-fc11-488c-85c9-10c5c8c2a9d6"
      },
      "execution_count": 3,
      "outputs": [
        {
          "output_type": "stream",
          "name": "stdout",
          "text": [
            "Input shape (1, 4, 2)\n"
          ]
        }
      ]
    },
    {
      "cell_type": "code",
      "source": [
        "#Create LSTM model\n",
        "input = Input(shape=(T, D))\n",
        "Bi_LSTM = Bidirectional(LSTM(H, return_sequences = True,  return_state = False,))\n",
        "\n",
        "x = Bi_LSTM(input)\n",
        "\n",
        "model1 = Model(inputs=input, outputs=x)"
      ],
      "metadata": {
        "id": "SA5rtQB8CV4f"
      },
      "execution_count": 4,
      "outputs": []
    },
    {
      "cell_type": "code",
      "source": [
        "output = model1.predict(X)\n",
        "print(\"\\nOutput.shape is T x 2H :\", output.shape) # T X 2H\n",
        "print(\"\\n\\nOutput represents the hidden states of all the time steps\")\n",
        "print(\"\\n The hidden state of the bidirectional LSTM is the concatenation of forward and reverse LSTM\")\n",
        "print(\"\\nOutput:\", output)"
      ],
      "metadata": {
        "colab": {
          "base_uri": "https://localhost:8080/"
        },
        "id": "X_awwRrtCcdb",
        "outputId": "30c2e6ac-39a5-4e73-b1ef-d4da40210050"
      },
      "execution_count": 5,
      "outputs": [
        {
          "output_type": "stream",
          "name": "stdout",
          "text": [
            "\u001b[1m1/1\u001b[0m \u001b[32m━━━━━━━━━━━━━━━━━━━━\u001b[0m\u001b[37m\u001b[0m \u001b[1m1s\u001b[0m 503ms/step\n",
            "\n",
            "Output.shape is T x 2H : (1, 4, 6)\n",
            "\n",
            "\n",
            "Output represents the hidden states of all the time steps\n",
            "\n",
            " The hidden state of the bidirectional LSTM is the concatenation of forward and reverse LSTM\n",
            "\n",
            "Output: [[[ 0.09088375  0.11664312 -0.07576307 -0.05087633  0.18228604\n",
            "    0.05714887]\n",
            "  [-0.04703799  0.12235692  0.14551716 -0.22678475  0.01973299\n",
            "    0.11406697]\n",
            "  [-0.09322294  0.18324535  0.25028604 -0.01596924  0.02544662\n",
            "    0.01274194]\n",
            "  [-0.01988224  0.09679601  0.05819474  0.1009442  -0.07388859\n",
            "   -0.04578188]]]\n"
          ]
        }
      ]
    },
    {
      "cell_type": "markdown",
      "source": [
        "# 2-When return_sequences = False, return_state = True"
      ],
      "metadata": {
        "id": "dF2e7Vf9Cllg"
      }
    },
    {
      "cell_type": "code",
      "source": [
        "#Create LSTM model\n",
        "input = Input(shape=(T, D))\n",
        "Bi_LSTM = Bidirectional(LSTM(H, return_sequences = False, return_state = True))\n",
        "\n",
        "x = Bi_LSTM(input)\n",
        "\n",
        "model2 = Model(inputs=input, outputs=x)"
      ],
      "metadata": {
        "id": "TeANpMgvCkEM"
      },
      "execution_count": 6,
      "outputs": []
    },
    {
      "cell_type": "code",
      "source": [
        "output, h1, c1, h2, c2 = model2.predict(X)\n",
        "print(\"\\nOutput:\", output) # Concatenation of both hidden states 1.e forward and reverse.\n",
        "print(\"\\nOutput.shape:\", output.shape)\n",
        "print(\"\\nh1:\", h1)\n",
        "print(\"\\nc1:\", c1)\n",
        "print(\"\\nh2:\", h2)\n",
        "print(\"\\nc2:\", c2)"
      ],
      "metadata": {
        "colab": {
          "base_uri": "https://localhost:8080/"
        },
        "id": "vR1wSQQtCrPb",
        "outputId": "b67c135d-ea23-4a49-ecea-4f743ef7d96a"
      },
      "execution_count": 7,
      "outputs": [
        {
          "output_type": "stream",
          "name": "stdout",
          "text": [
            "\u001b[1m1/1\u001b[0m \u001b[32m━━━━━━━━━━━━━━━━━━━━\u001b[0m\u001b[37m\u001b[0m \u001b[1m0s\u001b[0m 357ms/step\n",
            "\n",
            "Output: [[ 0.02145517 -0.03409312 -0.09694576 -0.14952894 -0.03132121  0.09614518]]\n",
            "\n",
            "Output.shape: (1, 6)\n",
            "\n",
            "h1: [[ 0.02145517 -0.03409312 -0.09694576]]\n",
            "\n",
            "c1: [[ 0.05382732 -0.05273196 -0.14680152]]\n",
            "\n",
            "h2: [[-0.14952894 -0.03132121  0.09614518]]\n",
            "\n",
            "c2: [[-0.26717058 -0.05075477  0.27038988]]\n"
          ]
        }
      ]
    },
    {
      "cell_type": "markdown",
      "source": [
        "# 3-When return_sequences = True, return_state = True"
      ],
      "metadata": {
        "id": "lRaHxvrcCwPS"
      }
    },
    {
      "cell_type": "code",
      "source": [
        "#Create LSTM\n",
        "input = Input(shape=(T, D))\n",
        "Bi_LSTM = Bidirectional(LSTM(H, return_state = True, return_sequences = True))\n",
        "\n",
        "x = Bi_LSTM(input)\n",
        "\n",
        "model3 = Model(inputs=input, outputs=x)"
      ],
      "metadata": {
        "id": "beaaObWZCuLD"
      },
      "execution_count": 8,
      "outputs": []
    },
    {
      "cell_type": "code",
      "source": [
        "output, h1, c1, h2, c2 = model3.predict(X)\n",
        "print(\"\\nOutput:\", output)\n",
        "print(\"\\nh1:\", h1)\n",
        "print(\"\\nc1:\", c1)\n",
        "print(\"\\nh2:\", h2) # h2 is the final hidden state for the backward LSTM. So going from front to back the final hidden state for\n",
        "                 # backward LSTM should be at the front of the sequence\n",
        "print(\"c2:\", c2)"
      ],
      "metadata": {
        "id": "Hmd8KtLUC1_s",
        "outputId": "46b95fb1-8f09-42bc-8850-f3c02c0eab46",
        "colab": {
          "base_uri": "https://localhost:8080/"
        }
      },
      "execution_count": 9,
      "outputs": [
        {
          "output_type": "stream",
          "name": "stdout",
          "text": [
            "\u001b[1m1/1\u001b[0m \u001b[32m━━━━━━━━━━━━━━━━━━━━\u001b[0m\u001b[37m\u001b[0m \u001b[1m0s\u001b[0m 392ms/step\n",
            "\n",
            "Output: [[[-0.10759197  0.12446083 -0.06519848 -0.06393692 -0.06291156\n",
            "   -0.02189545]\n",
            "  [ 0.08240684 -0.06840894 -0.14756261  0.07122848  0.01369264\n",
            "   -0.19105648]\n",
            "  [ 0.08914761 -0.07786864 -0.20895475  0.03037377  0.0007345\n",
            "   -0.05075426]\n",
            "  [ 0.09301921 -0.05481582 -0.12782322 -0.03816728  0.05566877\n",
            "    0.0696062 ]]]\n",
            "\n",
            "h1: [[ 0.09301921 -0.05481582 -0.12782322]]\n",
            "\n",
            "c1: [[ 0.1434232  -0.09425717 -0.2232172 ]]\n",
            "\n",
            "h2: [[-0.06393692 -0.06291156 -0.02189545]]\n",
            "c2: [[-0.10026489 -0.17223099 -0.05135527]]\n"
          ]
        }
      ]
    }
  ]
}