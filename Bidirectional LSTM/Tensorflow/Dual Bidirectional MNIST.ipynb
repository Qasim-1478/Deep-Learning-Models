{
 "cells": [
  {
   "cell_type": "markdown",
   "metadata": {
    "id": "OFASnZwfR78r"
   },
   "source": [
    "# Import Libraries"
   ]
  },
  {
   "cell_type": "code",
   "execution_count": null,
   "metadata": {
    "id": "gDSnp031m54o"
   },
   "outputs": [],
   "source": [
    "import tensorflow as tf\n",
    "from tensorflow.keras.layers import Input, LSTM, Dense, Flatten, Bidirectional, GlobalMaxPooling1D, Lambda, Concatenate\n",
    "from tensorflow.keras.models import Model\n",
    "from tensorflow.keras.optimizers import Adam\n",
    "import keras.backend as K # In keras backend refers to the computational engine executing operations and computations in deep learning\n",
    "                          # models. The backend configuration determines which computational engine runs numeric expressions.\n",
    "import numpy as np\n",
    "import pandas as pd\n",
    "import matplotlib.pyplot as plt\n",
    "\n",
    "from sklearn.model_selection import train_test_split"
   ]
  },
  {
   "cell_type": "markdown",
   "metadata": {
    "id": "6xVygXPgR78v"
   },
   "source": [
    "# Load in the data"
   ]
  },
  {
   "cell_type": "code",
   "execution_count": null,
   "metadata": {
    "colab": {
     "base_uri": "https://localhost:8080/"
    },
    "executionInfo": {
     "elapsed": 970,
     "status": "ok",
     "timestamp": 1718679816407,
     "user": {
      "displayName": "zeeshan ahmad",
      "userId": "09790783261567949831"
     },
     "user_tz": 240
    },
    "id": "F6arCxP1m-n4",
    "outputId": "0b418172-9c62-46bd-e475-eb54fb747870"
   },
   "outputs": [
    {
     "name": "stdout",
     "output_type": "stream",
     "text": [
      "Downloading data from https://storage.googleapis.com/tensorflow/tf-keras-datasets/mnist.npz\n",
      "11490434/11490434 [==============================] - 0s 0us/step\n",
      "x_train.shape: (60000, 28, 28)\n"
     ]
    }
   ],
   "source": [
    "mnist = tf.keras.datasets.mnist\n",
    "(x_train, y_train), _ = mnist.load_data()\n",
    "print(\"x_train.shape:\", x_train.shape)"
   ]
  },
  {
   "cell_type": "code",
   "execution_count": null,
   "metadata": {
    "colab": {
     "base_uri": "https://localhost:8080/"
    },
    "executionInfo": {
     "elapsed": 5,
     "status": "ok",
     "timestamp": 1718679816408,
     "user": {
      "displayName": "zeeshan ahmad",
      "userId": "09790783261567949831"
     },
     "user_tz": 240
    },
    "id": "KDuOTxLbR78w",
    "outputId": "c7547b29-82f7-4d05-9fff-e51bcd1f2404"
   },
   "outputs": [
    {
     "data": {
      "text/plain": [
       "dtype('uint8')"
      ]
     },
     "execution_count": 3,
     "metadata": {},
     "output_type": "execute_result"
    }
   ],
   "source": [
    "x_train.dtype"
   ]
  },
  {
   "cell_type": "markdown",
   "metadata": {
    "id": "gTiXO9CMR78w"
   },
   "source": [
    "# Extract first 10000 samples"
   ]
  },
  {
   "cell_type": "code",
   "execution_count": null,
   "metadata": {
    "id": "stfJBvEWR78x"
   },
   "outputs": [],
   "source": [
    "X  = x_train[0:10000, :]"
   ]
  },
  {
   "cell_type": "code",
   "execution_count": null,
   "metadata": {
    "colab": {
     "base_uri": "https://localhost:8080/"
    },
    "executionInfo": {
     "elapsed": 4,
     "status": "ok",
     "timestamp": 1718679816408,
     "user": {
      "displayName": "zeeshan ahmad",
      "userId": "09790783261567949831"
     },
     "user_tz": 240
    },
    "id": "N4B64T5CR78x",
    "outputId": "cac914c3-789b-4705-c663-3c4fe678f3d3"
   },
   "outputs": [
    {
     "data": {
      "text/plain": [
       "(10000, 28, 28)"
      ]
     },
     "execution_count": 5,
     "metadata": {},
     "output_type": "execute_result"
    }
   ],
   "source": [
    "X.shape # N x T x D"
   ]
  },
  {
   "cell_type": "code",
   "execution_count": null,
   "metadata": {
    "id": "XkWnSnkGR78x"
   },
   "outputs": [],
   "source": [
    "y = y_train[0:10000]"
   ]
  },
  {
   "cell_type": "code",
   "execution_count": null,
   "metadata": {
    "colab": {
     "base_uri": "https://localhost:8080/"
    },
    "executionInfo": {
     "elapsed": 7,
     "status": "ok",
     "timestamp": 1718679816693,
     "user": {
      "displayName": "zeeshan ahmad",
      "userId": "09790783261567949831"
     },
     "user_tz": 240
    },
    "id": "KnBudritR78x",
    "outputId": "ed73e94a-0761-465c-e6f0-2f4146cc053e"
   },
   "outputs": [
    {
     "data": {
      "text/plain": [
       "(10000,)"
      ]
     },
     "execution_count": 7,
     "metadata": {},
     "output_type": "execute_result"
    }
   ],
   "source": [
    "y.shape"
   ]
  },
  {
   "cell_type": "markdown",
   "metadata": {
    "id": "lepFmoeuR78y"
   },
   "source": [
    "# Perform Train test split"
   ]
  },
  {
   "cell_type": "code",
   "execution_count": null,
   "metadata": {
    "id": "sfopL2T3R78y"
   },
   "outputs": [],
   "source": [
    "train_data, test_data, train_labels, test_labels = train_test_split(X, y, test_size = 0.1)"
   ]
  },
  {
   "cell_type": "code",
   "execution_count": null,
   "metadata": {
    "colab": {
     "base_uri": "https://localhost:8080/"
    },
    "executionInfo": {
     "elapsed": 4,
     "status": "ok",
     "timestamp": 1718679816693,
     "user": {
      "displayName": "zeeshan ahmad",
      "userId": "09790783261567949831"
     },
     "user_tz": 240
    },
    "id": "ijgUgTmUR78y",
    "outputId": "b43a5c3b-d350-409d-b616-afc25b1e75c6"
   },
   "outputs": [
    {
     "data": {
      "text/plain": [
       "(28, 28)"
      ]
     },
     "execution_count": 9,
     "metadata": {},
     "output_type": "execute_result"
    }
   ],
   "source": [
    "train_data[0].shape  # shape of the first sample of train_data"
   ]
  },
  {
   "cell_type": "markdown",
   "metadata": {
    "id": "G06Qwmn4R78z"
   },
   "source": [
    "# Create the Model"
   ]
  },
  {
   "cell_type": "code",
   "execution_count": null,
   "metadata": {
    "id": "VmKFrTq6R78z"
   },
   "outputs": [],
   "source": [
    "# input is an image of size 28x28\n",
    "\n",
    "input = Input(shape=(train_data[0].shape))\n",
    "\n",
    "# First bidirectional LSTM ( up-down )\n",
    "\n",
    "Bi_LSTM_01 = Bidirectional(LSTM(128, return_sequences=True)) # return_sequences=True so that we get all the hidden states\n",
    "X1 = Bi_LSTM_01(input) # output is N x D x 2H\n",
    "X1 = GlobalMaxPooling1D()(X1) # output is N x 2H\n",
    "\n",
    "# Second bidirectional LSTM ( left-right )\n",
    "\n",
    "Bi_LSTM_02 = Bidirectional(LSTM(128, return_sequences=True))\n",
    "\n",
    "# We need to create permute layer to switch the dimensions of T x D\n",
    "\n",
    "permuteLayer = Lambda(lambda t: K.permute_dimensions(t, pattern=(0, 2, 1)))\n",
    "\n",
    "X2 = permuteLayer(input)\n",
    "X2 = Bi_LSTM_02(X2) # output is N x D x 2H\n",
    "X2 = GlobalMaxPooling1D()(X2) # output is N x 2H\n",
    "\n",
    "# Concatenate both flatten outputs\n",
    "\n",
    "concatenationLayer = Concatenate(axis=1)\n",
    "X = concatenationLayer([X1, X2]) # output is N x 4H\n",
    "\n",
    "# final dense layer\n",
    "output = Dense(10, activation='softmax')(X) # N x C\n",
    "\n",
    "model = Model(inputs=input, outputs=output)"
   ]
  },
  {
   "cell_type": "code",
   "execution_count": null,
   "metadata": {
    "colab": {
     "base_uri": "https://localhost:8080/"
    },
    "executionInfo": {
     "elapsed": 220,
     "status": "ok",
     "timestamp": 1718679819108,
     "user": {
      "displayName": "zeeshan ahmad",
      "userId": "09790783261567949831"
     },
     "user_tz": 240
    },
    "id": "O9XBJttIR78z",
    "outputId": "7707093d-56fb-4f7e-8b36-7a5eda40fbfe"
   },
   "outputs": [
    {
     "name": "stdout",
     "output_type": "stream",
     "text": [
      "Model: \"model\"\n",
      "__________________________________________________________________________________________________\n",
      " Layer (type)                Output Shape                 Param #   Connected to                  \n",
      "==================================================================================================\n",
      " input_1 (InputLayer)        [(None, 28, 28)]             0         []                            \n",
      "                                                                                                  \n",
      " lambda (Lambda)             (None, 28, 28)               0         ['input_1[0][0]']             \n",
      "                                                                                                  \n",
      " bidirectional (Bidirection  (None, 28, 256)              160768    ['input_1[0][0]']             \n",
      " al)                                                                                              \n",
      "                                                                                                  \n",
      " bidirectional_1 (Bidirecti  (None, 28, 256)              160768    ['lambda[0][0]']              \n",
      " onal)                                                                                            \n",
      "                                                                                                  \n",
      " global_max_pooling1d (Glob  (None, 256)                  0         ['bidirectional[0][0]']       \n",
      " alMaxPooling1D)                                                                                  \n",
      "                                                                                                  \n",
      " global_max_pooling1d_1 (Gl  (None, 256)                  0         ['bidirectional_1[0][0]']     \n",
      " obalMaxPooling1D)                                                                                \n",
      "                                                                                                  \n",
      " concatenate (Concatenate)   (None, 512)                  0         ['global_max_pooling1d[0][0]',\n",
      "                                                                     'global_max_pooling1d_1[0][0]\n",
      "                                                                    ']                            \n",
      "                                                                                                  \n",
      " dense (Dense)               (None, 10)                   5130      ['concatenate[0][0]']         \n",
      "                                                                                                  \n",
      "==================================================================================================\n",
      "Total params: 326666 (1.25 MB)\n",
      "Trainable params: 326666 (1.25 MB)\n",
      "Non-trainable params: 0 (0.00 Byte)\n",
      "__________________________________________________________________________________________________\n"
     ]
    }
   ],
   "source": [
    "model.summary()"
   ]
  },
  {
   "cell_type": "markdown",
   "metadata": {
    "id": "1HHlk2qXR78z"
   },
   "source": [
    "# Compile the Model"
   ]
  },
  {
   "cell_type": "code",
   "execution_count": null,
   "metadata": {
    "id": "KkhuW-IcnGSP"
   },
   "outputs": [],
   "source": [
    "model.compile(optimizer='adam', loss='sparse_categorical_crossentropy', metrics=['accuracy'])"
   ]
  },
  {
   "cell_type": "markdown",
   "metadata": {
    "id": "4oL7YLqdR780"
   },
   "source": [
    "# Train the Model"
   ]
  },
  {
   "cell_type": "code",
   "execution_count": null,
   "metadata": {
    "colab": {
     "base_uri": "https://localhost:8080/"
    },
    "executionInfo": {
     "elapsed": 2250542,
     "status": "ok",
     "timestamp": 1718682069645,
     "user": {
      "displayName": "zeeshan ahmad",
      "userId": "09790783261567949831"
     },
     "user_tz": 240
    },
    "id": "JsFeAXjyR780",
    "outputId": "80bd8637-d768-402e-e2f7-42a9069e7975"
   },
   "outputs": [
    {
     "name": "stdout",
     "output_type": "stream",
     "text": [
      "Epoch 1/50\n",
      "282/282 [==============================] - 56s 166ms/step - loss: 0.6862 - accuracy: 0.8246 - val_loss: 0.2477 - val_accuracy: 0.9360\n",
      "Epoch 2/50\n",
      "282/282 [==============================] - 44s 157ms/step - loss: 0.1951 - accuracy: 0.9509 - val_loss: 0.1726 - val_accuracy: 0.9540\n",
      "Epoch 3/50\n",
      "282/282 [==============================] - 43s 153ms/step - loss: 0.1224 - accuracy: 0.9701 - val_loss: 0.1329 - val_accuracy: 0.9660\n",
      "Epoch 4/50\n",
      "282/282 [==============================] - 43s 152ms/step - loss: 0.0925 - accuracy: 0.9756 - val_loss: 0.1409 - val_accuracy: 0.9610\n",
      "Epoch 5/50\n",
      "282/282 [==============================] - 45s 159ms/step - loss: 0.0788 - accuracy: 0.9783 - val_loss: 0.1334 - val_accuracy: 0.9590\n",
      "Epoch 6/50\n",
      "282/282 [==============================] - 42s 150ms/step - loss: 0.0744 - accuracy: 0.9792 - val_loss: 0.1198 - val_accuracy: 0.9700\n",
      "Epoch 7/50\n",
      "282/282 [==============================] - 42s 151ms/step - loss: 0.0580 - accuracy: 0.9859 - val_loss: 0.1112 - val_accuracy: 0.9730\n",
      "Epoch 8/50\n",
      "282/282 [==============================] - 43s 152ms/step - loss: 0.0460 - accuracy: 0.9878 - val_loss: 0.1200 - val_accuracy: 0.9640\n",
      "Epoch 9/50\n",
      "282/282 [==============================] - 46s 163ms/step - loss: 0.0409 - accuracy: 0.9902 - val_loss: 0.0936 - val_accuracy: 0.9710\n",
      "Epoch 10/50\n",
      "282/282 [==============================] - 48s 171ms/step - loss: 0.0324 - accuracy: 0.9924 - val_loss: 0.1325 - val_accuracy: 0.9660\n",
      "Epoch 11/50\n",
      "282/282 [==============================] - 43s 152ms/step - loss: 0.0263 - accuracy: 0.9949 - val_loss: 0.1097 - val_accuracy: 0.9660\n",
      "Epoch 12/50\n",
      "282/282 [==============================] - 43s 153ms/step - loss: 0.0334 - accuracy: 0.9916 - val_loss: 0.1299 - val_accuracy: 0.9620\n",
      "Epoch 13/50\n",
      "282/282 [==============================] - 47s 166ms/step - loss: 0.0340 - accuracy: 0.9917 - val_loss: 0.1311 - val_accuracy: 0.9610\n",
      "Epoch 14/50\n",
      "282/282 [==============================] - 44s 155ms/step - loss: 0.0310 - accuracy: 0.9920 - val_loss: 0.0977 - val_accuracy: 0.9680\n",
      "Epoch 15/50\n",
      "282/282 [==============================] - 43s 153ms/step - loss: 0.0232 - accuracy: 0.9944 - val_loss: 0.1162 - val_accuracy: 0.9680\n",
      "Epoch 16/50\n",
      "282/282 [==============================] - 43s 152ms/step - loss: 0.0214 - accuracy: 0.9946 - val_loss: 0.1158 - val_accuracy: 0.9650\n",
      "Epoch 17/50\n",
      "282/282 [==============================] - 43s 151ms/step - loss: 0.0190 - accuracy: 0.9954 - val_loss: 0.1148 - val_accuracy: 0.9720\n",
      "Epoch 18/50\n",
      "282/282 [==============================] - 44s 157ms/step - loss: 0.0232 - accuracy: 0.9937 - val_loss: 0.1520 - val_accuracy: 0.9610\n",
      "Epoch 19/50\n",
      "282/282 [==============================] - 42s 151ms/step - loss: 0.0284 - accuracy: 0.9909 - val_loss: 0.1491 - val_accuracy: 0.9630\n",
      "Epoch 20/50\n",
      "282/282 [==============================] - 42s 148ms/step - loss: 0.0247 - accuracy: 0.9928 - val_loss: 0.1220 - val_accuracy: 0.9630\n",
      "Epoch 21/50\n",
      "282/282 [==============================] - 43s 152ms/step - loss: 0.0265 - accuracy: 0.9921 - val_loss: 0.1161 - val_accuracy: 0.9630\n",
      "Epoch 22/50\n",
      "282/282 [==============================] - 44s 158ms/step - loss: 0.0205 - accuracy: 0.9941 - val_loss: 0.1084 - val_accuracy: 0.9720\n",
      "Epoch 23/50\n",
      "282/282 [==============================] - 43s 151ms/step - loss: 0.0110 - accuracy: 0.9977 - val_loss: 0.1053 - val_accuracy: 0.9710\n",
      "Epoch 24/50\n",
      "282/282 [==============================] - 45s 160ms/step - loss: 0.0054 - accuracy: 0.9994 - val_loss: 0.1122 - val_accuracy: 0.9700\n",
      "Epoch 25/50\n",
      "282/282 [==============================] - 43s 153ms/step - loss: 0.0031 - accuracy: 0.9994 - val_loss: 0.0997 - val_accuracy: 0.9770\n",
      "Epoch 26/50\n",
      "282/282 [==============================] - 46s 164ms/step - loss: 0.0010 - accuracy: 1.0000 - val_loss: 0.1024 - val_accuracy: 0.9740\n",
      "Epoch 27/50\n",
      "282/282 [==============================] - 42s 150ms/step - loss: 5.4828e-04 - accuracy: 1.0000 - val_loss: 0.1020 - val_accuracy: 0.9740\n",
      "Epoch 28/50\n",
      "282/282 [==============================] - 42s 150ms/step - loss: 3.8908e-04 - accuracy: 1.0000 - val_loss: 0.1002 - val_accuracy: 0.9750\n",
      "Epoch 29/50\n",
      "282/282 [==============================] - 42s 150ms/step - loss: 3.1550e-04 - accuracy: 1.0000 - val_loss: 0.1003 - val_accuracy: 0.9740\n",
      "Epoch 30/50\n",
      "282/282 [==============================] - 43s 152ms/step - loss: 2.6482e-04 - accuracy: 1.0000 - val_loss: 0.1019 - val_accuracy: 0.9750\n",
      "Epoch 31/50\n",
      "282/282 [==============================] - 45s 159ms/step - loss: 2.2670e-04 - accuracy: 1.0000 - val_loss: 0.1023 - val_accuracy: 0.9750\n",
      "Epoch 32/50\n",
      "282/282 [==============================] - 43s 151ms/step - loss: 1.9537e-04 - accuracy: 1.0000 - val_loss: 0.1032 - val_accuracy: 0.9750\n",
      "Epoch 33/50\n",
      "282/282 [==============================] - 42s 149ms/step - loss: 1.7058e-04 - accuracy: 1.0000 - val_loss: 0.1040 - val_accuracy: 0.9750\n",
      "Epoch 34/50\n",
      "282/282 [==============================] - 43s 151ms/step - loss: 1.4876e-04 - accuracy: 1.0000 - val_loss: 0.1045 - val_accuracy: 0.9750\n",
      "Epoch 35/50\n",
      "282/282 [==============================] - 45s 159ms/step - loss: 1.3099e-04 - accuracy: 1.0000 - val_loss: 0.1048 - val_accuracy: 0.9750\n",
      "Epoch 36/50\n",
      "282/282 [==============================] - 43s 152ms/step - loss: 1.1511e-04 - accuracy: 1.0000 - val_loss: 0.1049 - val_accuracy: 0.9750\n",
      "Epoch 37/50\n",
      "282/282 [==============================] - 43s 152ms/step - loss: 1.0089e-04 - accuracy: 1.0000 - val_loss: 0.1053 - val_accuracy: 0.9750\n",
      "Epoch 38/50\n",
      "282/282 [==============================] - 46s 164ms/step - loss: 8.8709e-05 - accuracy: 1.0000 - val_loss: 0.1062 - val_accuracy: 0.9740\n",
      "Epoch 39/50\n",
      "282/282 [==============================] - 46s 163ms/step - loss: 7.8566e-05 - accuracy: 1.0000 - val_loss: 0.1068 - val_accuracy: 0.9750\n",
      "Epoch 40/50\n",
      "282/282 [==============================] - 42s 150ms/step - loss: 6.9108e-05 - accuracy: 1.0000 - val_loss: 0.1074 - val_accuracy: 0.9750\n",
      "Epoch 41/50\n",
      "282/282 [==============================] - 51s 181ms/step - loss: 6.0791e-05 - accuracy: 1.0000 - val_loss: 0.1092 - val_accuracy: 0.9740\n",
      "Epoch 42/50\n",
      "282/282 [==============================] - 42s 150ms/step - loss: 5.3377e-05 - accuracy: 1.0000 - val_loss: 0.1087 - val_accuracy: 0.9750\n",
      "Epoch 43/50\n",
      "282/282 [==============================] - 45s 161ms/step - loss: 4.6914e-05 - accuracy: 1.0000 - val_loss: 0.1100 - val_accuracy: 0.9740\n",
      "Epoch 44/50\n",
      "282/282 [==============================] - 42s 149ms/step - loss: 4.1083e-05 - accuracy: 1.0000 - val_loss: 0.1100 - val_accuracy: 0.9740\n",
      "Epoch 45/50\n",
      "282/282 [==============================] - 42s 149ms/step - loss: 3.6060e-05 - accuracy: 1.0000 - val_loss: 0.1107 - val_accuracy: 0.9750\n",
      "Epoch 46/50\n",
      "282/282 [==============================] - 42s 149ms/step - loss: 3.1616e-05 - accuracy: 1.0000 - val_loss: 0.1116 - val_accuracy: 0.9750\n",
      "Epoch 47/50\n",
      "282/282 [==============================] - 42s 150ms/step - loss: 2.7589e-05 - accuracy: 1.0000 - val_loss: 0.1124 - val_accuracy: 0.9750\n",
      "Epoch 48/50\n",
      "282/282 [==============================] - 45s 158ms/step - loss: 2.4340e-05 - accuracy: 1.0000 - val_loss: 0.1136 - val_accuracy: 0.9760\n",
      "Epoch 49/50\n",
      "282/282 [==============================] - 42s 150ms/step - loss: 2.1170e-05 - accuracy: 1.0000 - val_loss: 0.1120 - val_accuracy: 0.9760\n",
      "Epoch 50/50\n",
      "282/282 [==============================] - 43s 153ms/step - loss: 1.8467e-05 - accuracy: 1.0000 - val_loss: 0.1137 - val_accuracy: 0.9760\n"
     ]
    }
   ],
   "source": [
    "hist = model.fit(train_data, train_labels, validation_data=(test_data, test_labels), epochs = 50)"
   ]
  },
  {
   "cell_type": "markdown",
   "metadata": {
    "id": "idZQxFVXR780"
   },
   "source": [
    "# Visualize the Model Performance"
   ]
  },
  {
   "cell_type": "code",
   "execution_count": null,
   "metadata": {
    "id": "suVKp9IdnJTv"
   },
   "outputs": [],
   "source": [
    "trainAcc = [100 * x for x in hist.history['accuracy']]\n",
    "testAcc = [100 * x for x in hist.history['val_accuracy']]"
   ]
  },
  {
   "cell_type": "code",
   "execution_count": null,
   "metadata": {
    "colab": {
     "base_uri": "https://localhost:8080/",
     "height": 454
    },
    "executionInfo": {
     "elapsed": 1115,
     "status": "ok",
     "timestamp": 1718682070757,
     "user": {
      "displayName": "zeeshan ahmad",
      "userId": "09790783261567949831"
     },
     "user_tz": 240
    },
    "id": "mVscPk8InMdH",
    "outputId": "9bb0e10c-9404-43a0-856f-bcdc50625a98"
   },
   "outputs": [
    {
     "data": {
      "image/png": "[encoded data removed]",
      "text/plain": [
       "<Figure size 1800x600 with 2 Axes>"
      ]
     },
     "metadata": {},
     "output_type": "display_data"
    }
   ],
   "source": [
    "fig,ax = plt.subplots(1,2,figsize=(18,6))\n",
    "\n",
    "ax[0].plot(hist.history['loss'], 'g', lw = 3, label = 'Train')\n",
    "ax[0].set_xlabel('Epochs', fontsize = 15)\n",
    "ax[0].set_ylabel('Loss', fontsize = 15)\n",
    "ax[0].legend(fontsize = 15)\n",
    "ax[0].set_title('Training Loss', fontsize = 15)\n",
    "\n",
    "\n",
    "ax[1].plot(trainAcc, label ='Train', lw = 3)\n",
    "ax[1].plot(testAcc, label ='Test', lw = 3)\n",
    "ax[1].set_xlabel('Epochs', fontsize = 15)\n",
    "ax[1].set_ylabel('Accuracy (%)', fontsize = 15)\n",
    "ax[1].set_ylim([10,110])\n",
    "ax[1].set_title(f'Train Accuracy: {trainAcc[-1]:.2f}% \\n Test Accuracy: {testAcc[-1]:.2f}%', fontsize = 15)\n",
    "ax[1].legend(fontsize = 15)\n",
    "\n",
    "plt.show()"
   ]
  },
  {
   "cell_type": "code",
   "execution_count": null,
   "metadata": {
    "id": "oz8XP72hR781"
   },
   "outputs": [],
   "source": []
  },
  {
   "cell_type": "code",
   "execution_count": null,
   "metadata": {
    "id": "RbbQx8zQR781"
   },
   "outputs": [],
   "source": []
  },
  {
   "cell_type": "code",
   "execution_count": null,
   "metadata": {
    "id": "a_WKRMGjR781"
   },
   "outputs": [],
   "source": []
  },
  {
   "cell_type": "code",
   "execution_count": null,
   "metadata": {
    "id": "UQiHz5RYR781"
   },
   "outputs": [],
   "source": []
  },
  {
   "cell_type": "code",
   "execution_count": null,
   "metadata": {
    "id": "hU0WKewhR781"
   },
   "outputs": [],
   "source": []
  },
  {
   "cell_type": "code",
   "execution_count": null,
   "metadata": {
    "id": "nn875u4yR781"
   },
   "outputs": [],
   "source": []
  },
  {
   "cell_type": "markdown",
   "metadata": {
    "id": "UshTTMlQR781"
   },
   "source": [
    "# Creating Function Using Lambda"
   ]
  },
  {
   "cell_type": "code",
   "execution_count": null,
   "metadata": {
    "id": "KcaLnCLnR782"
   },
   "outputs": [],
   "source": [
    "square = lambda num: num ** 2   # we use lamda when we need quick results and we dont want to save it for longer time"
   ]
  },
  {
   "cell_type": "code",
   "execution_count": null,
   "metadata": {
    "colab": {
     "base_uri": "https://localhost:8080/"
    },
    "executionInfo": {
     "elapsed": 9,
     "status": "ok",
     "timestamp": 1718682070759,
     "user": {
      "displayName": "zeeshan ahmad",
      "userId": "09790783261567949831"
     },
     "user_tz": 240
    },
    "id": "FSyheph9R782",
    "outputId": "cdc55c0c-9684-4bee-c66e-51095fbf75d1"
   },
   "outputs": [
    {
     "data": {
      "text/plain": [
       "36"
      ]
     },
     "execution_count": 17,
     "metadata": {},
     "output_type": "execute_result"
    }
   ],
   "source": [
    "square(6)"
   ]
  },
  {
   "cell_type": "markdown",
   "metadata": {
    "id": "1eKLcZDSR782"
   },
   "source": [
    "# Understanding PermuteLayer"
   ]
  },
  {
   "cell_type": "code",
   "execution_count": null,
   "metadata": {
    "id": "4j4fPsaqR783"
   },
   "outputs": [],
   "source": [
    "x = np.random.rand(32, 28, 10)"
   ]
  },
  {
   "cell_type": "code",
   "execution_count": null,
   "metadata": {
    "id": "P7SenZXKR783"
   },
   "outputs": [],
   "source": [
    "permuteLayer = Lambda(lambda t: K.permute_dimensions(t, pattern=(0, 2, 1)))"
   ]
  },
  {
   "cell_type": "code",
   "execution_count": null,
   "metadata": {
    "id": "lsBORc5HR783"
   },
   "outputs": [],
   "source": [
    "output = permuteLayer(x)"
   ]
  },
  {
   "cell_type": "code",
   "execution_count": null,
   "metadata": {
    "colab": {
     "base_uri": "https://localhost:8080/"
    },
    "executionInfo": {
     "elapsed": 9,
     "status": "ok",
     "timestamp": 1718682070761,
     "user": {
      "displayName": "zeeshan ahmad",
      "userId": "09790783261567949831"
     },
     "user_tz": 240
    },
    "id": "KWq0KNn6R783",
    "outputId": "b261bdfe-3feb-459e-f0de-f7608ca28fc9"
   },
   "outputs": [
    {
     "data": {
      "text/plain": [
       "TensorShape([32, 10, 28])"
      ]
     },
     "execution_count": 21,
     "metadata": {},
     "output_type": "execute_result"
    }
   ],
   "source": [
    "output.shape"
   ]
  },
  {
   "cell_type": "code",
   "execution_count": null,
   "metadata": {
    "id": "ALVZOIaYR783"
   },
   "outputs": [],
   "source": []
  }
 ],
 "metadata": {
  "colab": {
   "provenance": []
  },
  "kernelspec": {
   "display_name": "Python 3 (ipykernel)",
   "language": "python",
   "name": "python3"
  },
  "language_info": {
   "codemirror_mode": {
    "name": "ipython",
    "version": 3
   },
   "file_extension": ".py",
   "mimetype": "text/x-python",
   "name": "python",
   "nbconvert_exporter": "python",
   "pygments_lexer": "ipython3",
   "version": "3.9.7"
  }
 },
 "nbformat": 4,
 "nbformat_minor": 0
}
