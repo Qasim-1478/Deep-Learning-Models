{
 "cells": [
  {
   "cell_type": "markdown",
   "metadata": {
    "id": "v2HCRXbuQAwe"
   },
   "source": [
    "**CNN Autoencoder**"
   ]
  },
  {
   "cell_type": "code",
   "execution_count": 1,
   "metadata": {
    "id": "R86B5T7SQDXC"
   },
   "outputs": [],
   "source": [
    "import torch\n",
    "import torch.nn as nn\n",
    "import numpy as np\n",
    "import matplotlib.pyplot as plt"
   ]
  },
  {
   "cell_type": "markdown",
   "metadata": {
    "id": "5z0_J1IKQLIq"
   },
   "source": [
    "nn.Conv2d()"
   ]
  },
  {
   "cell_type": "code",
   "execution_count": 2,
   "metadata": {
    "id": "gHVxFNWZQOEp"
   },
   "outputs": [],
   "source": [
    "#Size of image (no. of samples, channels, width, height)\n",
    "\n",
    "img = (1,3,64,64) # Convolutional Layer needs 4D input shape\n",
    "imgT = torch.rand(img) # torch.randn so that the pixels should be positive and normalized."
   ]
  },
  {
   "cell_type": "code",
   "execution_count": 3,
   "metadata": {
    "colab": {
     "base_uri": "https://localhost:8080/"
    },
    "id": "SoSnDa1hQXLJ",
    "outputId": "f370a8b6-bedb-4c6a-a4c3-f1d05515d5a5"
   },
   "outputs": [
    {
     "name": "stdout",
     "output_type": "stream",
     "text": [
      "torch.Size([1, 10, 62, 62])\n"
     ]
    }
   ],
   "source": [
    "#Set parameter and create instance of nn.Conv2d()\n",
    "\n",
    "in_channels  = 3 # RGB or color image\n",
    "out_channels = 10 # Number of kernels\n",
    "kernel_size  = 5\n",
    "stride   = 1\n",
    "padding  = 1\n",
    "\n",
    "convLayer = nn.Conv2d(in_channels, out_channels, kernel_size, stride, padding)\n",
    "\n",
    "out_convLayer = convLayer(imgT)\n",
    "print(out_convLayer.shape)  # N x Channels (depth) x width x height"
   ]
  },
  {
   "cell_type": "markdown",
   "metadata": {
    "id": "lwu9YSgPQlQz"
   },
   "source": [
    "nn.ConvTranspose2d()"
   ]
  },
  {
   "cell_type": "code",
   "execution_count": 5,
   "metadata": {
    "colab": {
     "base_uri": "https://localhost:8080/"
    },
    "id": "8h4aniJpQoxf",
    "outputId": "055e22e6-a013-4635-fb0c-2651c086c608"
   },
   "outputs": [
    {
     "name": "stdout",
     "output_type": "stream",
     "text": [
      "torch.Size([1, 3, 64, 64])\n"
     ]
    }
   ],
   "source": [
    "in_channels  = 10\n",
    "out_channels = 3\n",
    "kernel_size  = 5\n",
    "stride   = 1\n",
    "padding  = 1\n",
    "\n",
    "conv_Transpose_Layer = nn.ConvTranspose2d(in_channels, out_channels, kernel_size, stride, padding)\n",
    "\n",
    "out_conv_Transpose_Layer = conv_Transpose_Layer(out_convLayer)\n",
    "\n",
    "print(out_conv_Transpose_Layer.shape)"
   ]
  }
 ],
 "metadata": {
  "accelerator": "GPU",
  "colab": {
   "gpuType": "T4",
   "provenance": []
  },
  "kernelspec": {
   "display_name": "Python 3",
   "name": "python3"
  },
  "language_info": {
   "name": "python"
  }
 },
 "nbformat": 4,
 "nbformat_minor": 0
}
