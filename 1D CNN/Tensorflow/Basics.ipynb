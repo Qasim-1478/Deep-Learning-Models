{
 "cells": [
  {
   "cell_type": "markdown",
   "metadata": {
    "id": "7h83L_bxkDfs"
   },
   "source": [
    "# Import Libraries"
   ]
  },
  {
   "cell_type": "code",
   "execution_count": 8,
   "metadata": {
    "executionInfo": {
     "elapsed": 194,
     "status": "ok",
     "timestamp": 1718827377171,
     "user": {
      "displayName": "zeeshan ahmad",
      "userId": "09790783261567949831"
     },
     "user_tz": 240
    },
    "id": "luMQL7QukG0o"
   },
   "outputs": [],
   "source": [
    "import numpy as np\n",
    "import tensorflow as tf\n",
    "from tensorflow.keras.layers import Conv1D, MaxPooling1D, Conv1DTranspose"
   ]
  },
  {
   "cell_type": "markdown",
   "metadata": {
    "id": "LznZ1mTzntuK"
   },
   "source": [
    "### Data Parameters"
   ]
  },
  {
   "cell_type": "code",
   "execution_count": 9,
   "metadata": {
    "executionInfo": {
     "elapsed": 207,
     "status": "ok",
     "timestamp": 1718827399252,
     "user": {
      "displayName": "zeeshan ahmad",
      "userId": "09790783261567949831"
     },
     "user_tz": 240
    },
    "id": "oQ4LGFuTmosa"
   },
   "outputs": [],
   "source": [
    "batchsize = 32\n",
    "channels = 1\n",
    "seq_len = 200"
   ]
  },
  {
   "cell_type": "code",
   "execution_count": 10,
   "metadata": {
    "colab": {
     "base_uri": "https://localhost:8080/"
    },
    "executionInfo": {
     "elapsed": 188,
     "status": "ok",
     "timestamp": 1718827410610,
     "user": {
      "displayName": "zeeshan ahmad",
      "userId": "09790783261567949831"
     },
     "user_tz": 240
    },
    "id": "xjlfSAORllEE",
    "outputId": "698910b1-f4f0-478a-b57e-d32860301bf8"
   },
   "outputs": [
    {
     "data": {
      "text/plain": [
       "(32, 200, 1)"
      ]
     },
     "execution_count": 10,
     "metadata": {},
     "output_type": "execute_result"
    }
   ],
   "source": [
    "data = np.random.rand(batchsize, seq_len, channels)\n",
    "data.shape"
   ]
  },
  {
   "cell_type": "markdown",
   "metadata": {
    "id": "fiDSOa6Jnzki"
   },
   "source": [
    "### 1DCNN Parameters"
   ]
  },
  {
   "cell_type": "code",
   "execution_count": 11,
   "metadata": {
    "executionInfo": {
     "elapsed": 164,
     "status": "ok",
     "timestamp": 1718827458839,
     "user": {
      "displayName": "zeeshan ahmad",
      "userId": "09790783261567949831"
     },
     "user_tz": 240
    },
    "id": "JoUykdFBnTTi"
   },
   "outputs": [],
   "source": [
    "filters = 10\n",
    "kernel_size = 5"
   ]
  },
  {
   "cell_type": "code",
   "execution_count": 12,
   "metadata": {
    "executionInfo": {
     "elapsed": 165,
     "status": "ok",
     "timestamp": 1718827461700,
     "user": {
      "displayName": "zeeshan ahmad",
      "userId": "09790783261567949831"
     },
     "user_tz": 240
    },
    "id": "O9fWlzdfllfy"
   },
   "outputs": [],
   "source": [
    "conv1 = Conv1D( filters, kernel_size, strides=1, padding=\"valid\" )"
   ]
  },
  {
   "cell_type": "code",
   "execution_count": 13,
   "metadata": {
    "executionInfo": {
     "elapsed": 167,
     "status": "ok",
     "timestamp": 1718827471498,
     "user": {
      "displayName": "zeeshan ahmad",
      "userId": "09790783261567949831"
     },
     "user_tz": 240
    },
    "id": "wu1lBdgCnhB7"
   },
   "outputs": [],
   "source": [
    "out_conv1d = conv1(data)"
   ]
  },
  {
   "cell_type": "code",
   "execution_count": 14,
   "metadata": {
    "colab": {
     "base_uri": "https://localhost:8080/"
    },
    "executionInfo": {
     "elapsed": 161,
     "status": "ok",
     "timestamp": 1718827473761,
     "user": {
      "displayName": "zeeshan ahmad",
      "userId": "09790783261567949831"
     },
     "user_tz": 240
    },
    "id": "pk1CligPnlgz",
    "outputId": "ab0bfdd3-c7eb-4b13-c5ae-e695db30409a"
   },
   "outputs": [
    {
     "data": {
      "text/plain": [
       "TensorShape([32, 196, 10])"
      ]
     },
     "execution_count": 14,
     "metadata": {},
     "output_type": "execute_result"
    }
   ],
   "source": [
    "out_conv1d.shape"
   ]
  },
  {
   "cell_type": "code",
   "execution_count": null,
   "metadata": {
    "id": "uRua3JwCoASz"
   },
   "outputs": [],
   "source": []
  },
  {
   "cell_type": "markdown",
   "metadata": {
    "id": "FvHDKM8moAbi"
   },
   "source": [
    "# Maxpool1D"
   ]
  },
  {
   "cell_type": "code",
   "execution_count": 15,
   "metadata": {
    "executionInfo": {
     "elapsed": 175,
     "status": "ok",
     "timestamp": 1718827571907,
     "user": {
      "displayName": "zeeshan ahmad",
      "userId": "09790783261567949831"
     },
     "user_tz": 240
    },
    "id": "9R07F1cYoDcj"
   },
   "outputs": [],
   "source": [
    "pool_1d  = MaxPooling1D( pool_size=2 ) # by default stride is equal t0 pool size"
   ]
  },
  {
   "cell_type": "code",
   "execution_count": 16,
   "metadata": {
    "executionInfo": {
     "elapsed": 159,
     "status": "ok",
     "timestamp": 1718827582280,
     "user": {
      "displayName": "zeeshan ahmad",
      "userId": "09790783261567949831"
     },
     "user_tz": 240
    },
    "id": "MGzqQSuHo0Bb"
   },
   "outputs": [],
   "source": [
    "out_pool_1d = pool_1d(out_conv1d)"
   ]
  },
  {
   "cell_type": "code",
   "execution_count": 17,
   "metadata": {
    "colab": {
     "base_uri": "https://localhost:8080/"
    },
    "executionInfo": {
     "elapsed": 170,
     "status": "ok",
     "timestamp": 1718827583318,
     "user": {
      "displayName": "zeeshan ahmad",
      "userId": "09790783261567949831"
     },
     "user_tz": 240
    },
    "id": "o5DvCXPjo7ei",
    "outputId": "b5000c43-b536-461d-c5a7-85ebdbfb92d9"
   },
   "outputs": [
    {
     "data": {
      "text/plain": [
       "TensorShape([32, 98, 10])"
      ]
     },
     "execution_count": 17,
     "metadata": {},
     "output_type": "execute_result"
    }
   ],
   "source": [
    "out_pool_1d.shape"
   ]
  },
  {
   "cell_type": "code",
   "execution_count": null,
   "metadata": {
    "id": "9sx5Ye-3pk5i"
   },
   "outputs": [],
   "source": []
  },
  {
   "cell_type": "markdown",
   "metadata": {
    "id": "t-NiF-wrp4Fa"
   },
   "source": [
    "# ConvTranspose1d"
   ]
  },
  {
   "cell_type": "code",
   "execution_count": 18,
   "metadata": {
    "executionInfo": {
     "elapsed": 194,
     "status": "ok",
     "timestamp": 1718827627306,
     "user": {
      "displayName": "zeeshan ahmad",
      "userId": "09790783261567949831"
     },
     "user_tz": 240
    },
    "id": "wXD3NPdcpVvK"
   },
   "outputs": [],
   "source": [
    "filters = 1\n",
    "kernel_size = 5"
   ]
  },
  {
   "cell_type": "code",
   "execution_count": 19,
   "metadata": {
    "executionInfo": {
     "elapsed": 180,
     "status": "ok",
     "timestamp": 1718827637181,
     "user": {
      "displayName": "zeeshan ahmad",
      "userId": "09790783261567949831"
     },
     "user_tz": 240
    },
    "id": "oOnMr2nJpV2a"
   },
   "outputs": [],
   "source": [
    "convTranspose1d = Conv1DTranspose( filters, kernel_size, strides=1, padding=\"valid\" )"
   ]
  },
  {
   "cell_type": "code",
   "execution_count": 20,
   "metadata": {
    "executionInfo": {
     "elapsed": 184,
     "status": "ok",
     "timestamp": 1718827644787,
     "user": {
      "displayName": "zeeshan ahmad",
      "userId": "09790783261567949831"
     },
     "user_tz": 240
    },
    "id": "usmfqeAZpuA7"
   },
   "outputs": [],
   "source": [
    "out_convTranspose1d = convTranspose1d(out_conv1d)"
   ]
  },
  {
   "cell_type": "code",
   "execution_count": 21,
   "metadata": {
    "colab": {
     "base_uri": "https://localhost:8080/"
    },
    "executionInfo": {
     "elapsed": 185,
     "status": "ok",
     "timestamp": 1718827646155,
     "user": {
      "displayName": "zeeshan ahmad",
      "userId": "09790783261567949831"
     },
     "user_tz": 240
    },
    "id": "p_5FhcX2pys6",
    "outputId": "564e070e-0ff5-4dba-ca7f-573cde27af48"
   },
   "outputs": [
    {
     "data": {
      "text/plain": [
       "TensorShape([32, 200, 1])"
      ]
     },
     "execution_count": 21,
     "metadata": {},
     "output_type": "execute_result"
    }
   ],
   "source": [
    "out_convTranspose1d.shape"
   ]
  }
 ],
 "metadata": {
  "colab": {
   "authorship_tag": "ABX9TyNlcr20HuxbVCveApA5VNkT",
   "provenance": []
  },
  "kernelspec": {
   "display_name": "Python 3",
   "name": "python3"
  },
  "language_info": {
   "name": "python"
  }
 },
 "nbformat": 4,
 "nbformat_minor": 0
}
