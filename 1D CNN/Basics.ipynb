{
 "cells": [
  {
   "cell_type": "markdown",
   "metadata": {
    "id": "QsIxtCzXX5Cs"
   },
   "source": [
    "**Basics**"
   ]
  },
  {
   "cell_type": "code",
   "execution_count": 1,
   "metadata": {
    "id": "Asm5EMoVX7po"
   },
   "outputs": [],
   "source": [
    "import numpy as np\n",
    "import torch.nn as nn\n",
    "import torch"
   ]
  },
  {
   "cell_type": "code",
   "execution_count": 3,
   "metadata": {
    "colab": {
     "base_uri": "https://localhost:8080/"
    },
    "id": "00Ya-WvZYGZC",
    "outputId": "a2b4b778-3d1a-451b-f4c7-bf84282e0bb1"
   },
   "outputs": [
    {
     "data": {
      "text/plain": [
       "tensor([[[-1.5627,  0.4651, -0.4112,  ..., -0.0679, -0.3667,  2.6835]],\n",
       "\n",
       "        [[-0.9619, -0.4263, -2.1027,  ...,  0.6100, -0.3565, -0.6652]],\n",
       "\n",
       "        [[ 0.7666,  0.2676, -1.1995,  ..., -0.2706, -0.4755,  2.0244]],\n",
       "\n",
       "        ...,\n",
       "\n",
       "        [[ 0.9680,  0.5136,  1.1645,  ..., -0.7587, -1.0539, -1.4873]],\n",
       "\n",
       "        [[ 0.5958,  0.3183, -0.7772,  ..., -1.1138,  0.4921, -1.1649]],\n",
       "\n",
       "        [[-0.3266, -1.5512,  1.2664,  ...,  0.7891, -0.1876,  1.5881]]])"
      ]
     },
     "execution_count": 3,
     "metadata": {},
     "output_type": "execute_result"
    }
   ],
   "source": [
    "#Data Parameters\n",
    "batchsize = 32\n",
    "channels = 1\n",
    "seq_length = 200\n",
    "\n",
    "data = torch.randn(batchsize,channels,seq_length)\n",
    "data"
   ]
  },
  {
   "cell_type": "code",
   "execution_count": 4,
   "metadata": {
    "id": "uBm_R7CDYfwU"
   },
   "outputs": [],
   "source": [
    "#1D parameters\n",
    "in_channels = 1\n",
    "out_channels= 10\n",
    "kernel_size = 5"
   ]
  },
  {
   "cell_type": "code",
   "execution_count": 5,
   "metadata": {
    "colab": {
     "base_uri": "https://localhost:8080/"
    },
    "id": "npUBnPlDYvt1",
    "outputId": "8f60aec5-68ab-482b-c491-034ccb0d395f"
   },
   "outputs": [
    {
     "data": {
      "text/plain": [
       "torch.Size([32, 10, 196])"
      ]
     },
     "execution_count": 5,
     "metadata": {},
     "output_type": "execute_result"
    }
   ],
   "source": [
    "conv1 = nn.Conv1d(in_channels, out_channels, kernel_size, stride=1, padding=0)\n",
    "out_conv1d = conv1(data)\n",
    "out_conv1d.shape"
   ]
  },
  {
   "cell_type": "code",
   "execution_count": 6,
   "metadata": {
    "colab": {
     "base_uri": "https://localhost:8080/"
    },
    "id": "LxFsMk67Y2Ch",
    "outputId": "214005c9-71e6-428e-dd3d-8fd859ac07b6"
   },
   "outputs": [
    {
     "data": {
      "text/plain": [
       "torch.Size([32, 10, 98])"
      ]
     },
     "execution_count": 6,
     "metadata": {},
     "output_type": "execute_result"
    }
   ],
   "source": [
    "#MaxPool 1D\n",
    "pool_1d = nn.MaxPool1d(2, 2) # kernel_size = 2, stride = 2. if stride is not given as input then stride = kernel_size\n",
    "out_pool_1d = pool_1d(out_conv1d)\n",
    "out_pool_1d.shape"
   ]
  },
  {
   "cell_type": "code",
   "execution_count": 7,
   "metadata": {
    "colab": {
     "base_uri": "https://localhost:8080/"
    },
    "id": "ayZfl47LY80G",
    "outputId": "b903b416-813f-4e6f-88f0-4ca09e6689ae"
   },
   "outputs": [
    {
     "data": {
      "text/plain": [
       "torch.Size([32, 1, 200])"
      ]
     },
     "execution_count": 7,
     "metadata": {},
     "output_type": "execute_result"
    }
   ],
   "source": [
    "#Transpose/Reverse of the convolution\n",
    "in_channels = 10\n",
    "out_channels = 1\n",
    "kernel_size = 5\n",
    "\n",
    "convTranspose1d = torch.nn.ConvTranspose1d(in_channels, out_channels, kernel_size, stride=1, padding=0)\n",
    "out_convTranspose1d = convTranspose1d(out_conv1d)\n",
    "out_convTranspose1d.shape"
   ]
  }
 ],
 "metadata": {
  "accelerator": "GPU",
  "colab": {
   "gpuType": "T4",
   "provenance": []
  },
  "kernelspec": {
   "display_name": "Python 3",
   "name": "python3"
  },
  "language_info": {
   "name": "python"
  }
 },
 "nbformat": 4,
 "nbformat_minor": 0
}
