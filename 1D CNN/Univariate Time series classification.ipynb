{
  "nbformat": 4,
  "nbformat_minor": 0,
  "metadata": {
    "colab": {
      "provenance": [],
      "gpuType": "T4"
    },
    "kernelspec": {
      "name": "python3",
      "display_name": "Python 3"
    },
    "language_info": {
      "name": "python"
    },
    "accelerator": "GPU"
  },
  "cells": [
    {
      "cell_type": "markdown",
      "source": [
        "#Univariate Time Series Classification"
      ],
      "metadata": {
        "id": "2nYbOW_zZce-"
      }
    },
    {
      "cell_type": "code",
      "source": [
        "import torch.nn as nn\n",
        "import torch.nn.functional as F\n",
        "from torch.utils.data import DataLoader,TensorDataset\n",
        "from sklearn.model_selection import train_test_split\n",
        "import numpy as np\n",
        "import matplotlib.pyplot as plt\n",
        "from matplotlib import style\n",
        "from IPython import display\n",
        "import seaborn as sn\n",
        "import pandas as pd"
      ],
      "metadata": {
        "id": "6c0IcFq2Zf4X"
      },
      "execution_count": 1,
      "outputs": []
    },
    {
      "cell_type": "code",
      "source": [
        "import torch\n",
        "device = torch.device('cuda:0' if torch.cuda.is_available() else 'cpu')\n",
        "print(device)"
      ],
      "metadata": {
        "colab": {
          "base_uri": "https://localhost:8080/"
        },
        "id": "zkPsdj4rZjCY",
        "outputId": "0855593f-2197-4e24-9a74-1992b76e4fd1"
      },
      "execution_count": 2,
      "outputs": [
        {
          "output_type": "stream",
          "name": "stdout",
          "text": [
            "cuda:0\n"
          ]
        }
      ]
    },
    {
      "cell_type": "code",
      "source": [
        "#Reading both the datasets\n",
        "normal = pd.read_csv('ptbdb_normal.csv',header = None)\n",
        "abnormal = pd.read_csv('ptbdb_abnormal.csv', header = None)"
      ],
      "metadata": {
        "id": "-abc02WXZngJ"
      },
      "execution_count": 3,
      "outputs": []
    },
    {
      "cell_type": "code",
      "source": [
        "data = pd.concat([normal, abnormal])"
      ],
      "metadata": {
        "id": "AsmqtNYWZyMe"
      },
      "execution_count": 4,
      "outputs": []
    },
    {
      "cell_type": "code",
      "source": [
        "data.head()"
      ],
      "metadata": {
        "colab": {
          "base_uri": "https://localhost:8080/",
          "height": 253
        },
        "id": "quGS9g9PZ0xA",
        "outputId": "6114aeae-12b4-459b-9acf-2c771b0acac2"
      },
      "execution_count": 5,
      "outputs": [
        {
          "output_type": "execute_result",
          "data": {
            "text/plain": [
              "        0         1         2         3         4         5         6    \\\n",
              "0  1.000000  0.900324  0.358590  0.051459  0.046596  0.126823  0.133306   \n",
              "1  1.000000  0.794681  0.375387  0.116883  0.000000  0.171923  0.283859   \n",
              "2  0.909029  0.791482  0.423169  0.186712  0.000000  0.007836  0.063032   \n",
              "3  1.000000  0.478893  0.056760  0.064176  0.081289  0.072732  0.055619   \n",
              "4  1.000000  0.867238  0.201360  0.099349  0.141336  0.120934  0.108516   \n",
              "\n",
              "        7         8         9    ...  178  179  180  181  182  183  184  185  \\\n",
              "0  0.119125  0.110616  0.113047  ...  0.0  0.0  0.0  0.0  0.0  0.0  0.0  0.0   \n",
              "1  0.293754  0.325912  0.345083  ...  0.0  0.0  0.0  0.0  0.0  0.0  0.0  0.0   \n",
              "2  0.077002  0.074957  0.077342  ...  0.0  0.0  0.0  0.0  0.0  0.0  0.0  0.0   \n",
              "3  0.048774  0.054478  0.041643  ...  0.0  0.0  0.0  0.0  0.0  0.0  0.0  0.0   \n",
              "4  0.096393  0.093436  0.100828  ...  0.0  0.0  0.0  0.0  0.0  0.0  0.0  0.0   \n",
              "\n",
              "   186  187  \n",
              "0  0.0  0.0  \n",
              "1  0.0  0.0  \n",
              "2  0.0  0.0  \n",
              "3  0.0  0.0  \n",
              "4  0.0  0.0  \n",
              "\n",
              "[5 rows x 188 columns]"
            ],
            "text/html": [
              "\n",
              "  <div id=\"df-3713eaad-ed8e-4709-b0a0-b42e33c7e0fe\" class=\"colab-df-container\">\n",
              "    <div>\n",
              "<style scoped>\n",
              "    .dataframe tbody tr th:only-of-type {\n",
              "        vertical-align: middle;\n",
              "    }\n",
              "\n",
              "    .dataframe tbody tr th {\n",
              "        vertical-align: top;\n",
              "    }\n",
              "\n",
              "    .dataframe thead th {\n",
              "        text-align: right;\n",
              "    }\n",
              "</style>\n",
              "<table border=\"1\" class=\"dataframe\">\n",
              "  <thead>\n",
              "    <tr style=\"text-align: right;\">\n",
              "      <th></th>\n",
              "      <th>0</th>\n",
              "      <th>1</th>\n",
              "      <th>2</th>\n",
              "      <th>3</th>\n",
              "      <th>4</th>\n",
              "      <th>5</th>\n",
              "      <th>6</th>\n",
              "      <th>7</th>\n",
              "      <th>8</th>\n",
              "      <th>9</th>\n",
              "      <th>...</th>\n",
              "      <th>178</th>\n",
              "      <th>179</th>\n",
              "      <th>180</th>\n",
              "      <th>181</th>\n",
              "      <th>182</th>\n",
              "      <th>183</th>\n",
              "      <th>184</th>\n",
              "      <th>185</th>\n",
              "      <th>186</th>\n",
              "      <th>187</th>\n",
              "    </tr>\n",
              "  </thead>\n",
              "  <tbody>\n",
              "    <tr>\n",
              "      <th>0</th>\n",
              "      <td>1.000000</td>\n",
              "      <td>0.900324</td>\n",
              "      <td>0.358590</td>\n",
              "      <td>0.051459</td>\n",
              "      <td>0.046596</td>\n",
              "      <td>0.126823</td>\n",
              "      <td>0.133306</td>\n",
              "      <td>0.119125</td>\n",
              "      <td>0.110616</td>\n",
              "      <td>0.113047</td>\n",
              "      <td>...</td>\n",
              "      <td>0.0</td>\n",
              "      <td>0.0</td>\n",
              "      <td>0.0</td>\n",
              "      <td>0.0</td>\n",
              "      <td>0.0</td>\n",
              "      <td>0.0</td>\n",
              "      <td>0.0</td>\n",
              "      <td>0.0</td>\n",
              "      <td>0.0</td>\n",
              "      <td>0.0</td>\n",
              "    </tr>\n",
              "    <tr>\n",
              "      <th>1</th>\n",
              "      <td>1.000000</td>\n",
              "      <td>0.794681</td>\n",
              "      <td>0.375387</td>\n",
              "      <td>0.116883</td>\n",
              "      <td>0.000000</td>\n",
              "      <td>0.171923</td>\n",
              "      <td>0.283859</td>\n",
              "      <td>0.293754</td>\n",
              "      <td>0.325912</td>\n",
              "      <td>0.345083</td>\n",
              "      <td>...</td>\n",
              "      <td>0.0</td>\n",
              "      <td>0.0</td>\n",
              "      <td>0.0</td>\n",
              "      <td>0.0</td>\n",
              "      <td>0.0</td>\n",
              "      <td>0.0</td>\n",
              "      <td>0.0</td>\n",
              "      <td>0.0</td>\n",
              "      <td>0.0</td>\n",
              "      <td>0.0</td>\n",
              "    </tr>\n",
              "    <tr>\n",
              "      <th>2</th>\n",
              "      <td>0.909029</td>\n",
              "      <td>0.791482</td>\n",
              "      <td>0.423169</td>\n",
              "      <td>0.186712</td>\n",
              "      <td>0.000000</td>\n",
              "      <td>0.007836</td>\n",
              "      <td>0.063032</td>\n",
              "      <td>0.077002</td>\n",
              "      <td>0.074957</td>\n",
              "      <td>0.077342</td>\n",
              "      <td>...</td>\n",
              "      <td>0.0</td>\n",
              "      <td>0.0</td>\n",
              "      <td>0.0</td>\n",
              "      <td>0.0</td>\n",
              "      <td>0.0</td>\n",
              "      <td>0.0</td>\n",
              "      <td>0.0</td>\n",
              "      <td>0.0</td>\n",
              "      <td>0.0</td>\n",
              "      <td>0.0</td>\n",
              "    </tr>\n",
              "    <tr>\n",
              "      <th>3</th>\n",
              "      <td>1.000000</td>\n",
              "      <td>0.478893</td>\n",
              "      <td>0.056760</td>\n",
              "      <td>0.064176</td>\n",
              "      <td>0.081289</td>\n",
              "      <td>0.072732</td>\n",
              "      <td>0.055619</td>\n",
              "      <td>0.048774</td>\n",
              "      <td>0.054478</td>\n",
              "      <td>0.041643</td>\n",
              "      <td>...</td>\n",
              "      <td>0.0</td>\n",
              "      <td>0.0</td>\n",
              "      <td>0.0</td>\n",
              "      <td>0.0</td>\n",
              "      <td>0.0</td>\n",
              "      <td>0.0</td>\n",
              "      <td>0.0</td>\n",
              "      <td>0.0</td>\n",
              "      <td>0.0</td>\n",
              "      <td>0.0</td>\n",
              "    </tr>\n",
              "    <tr>\n",
              "      <th>4</th>\n",
              "      <td>1.000000</td>\n",
              "      <td>0.867238</td>\n",
              "      <td>0.201360</td>\n",
              "      <td>0.099349</td>\n",
              "      <td>0.141336</td>\n",
              "      <td>0.120934</td>\n",
              "      <td>0.108516</td>\n",
              "      <td>0.096393</td>\n",
              "      <td>0.093436</td>\n",
              "      <td>0.100828</td>\n",
              "      <td>...</td>\n",
              "      <td>0.0</td>\n",
              "      <td>0.0</td>\n",
              "      <td>0.0</td>\n",
              "      <td>0.0</td>\n",
              "      <td>0.0</td>\n",
              "      <td>0.0</td>\n",
              "      <td>0.0</td>\n",
              "      <td>0.0</td>\n",
              "      <td>0.0</td>\n",
              "      <td>0.0</td>\n",
              "    </tr>\n",
              "  </tbody>\n",
              "</table>\n",
              "<p>5 rows × 188 columns</p>\n",
              "</div>\n",
              "    <div class=\"colab-df-buttons\">\n",
              "\n",
              "  <div class=\"colab-df-container\">\n",
              "    <button class=\"colab-df-convert\" onclick=\"convertToInteractive('df-3713eaad-ed8e-4709-b0a0-b42e33c7e0fe')\"\n",
              "            title=\"Convert this dataframe to an interactive table.\"\n",
              "            style=\"display:none;\">\n",
              "\n",
              "  <svg xmlns=\"http://www.w3.org/2000/svg\" height=\"24px\" viewBox=\"0 -960 960 960\">\n",
              "    <path d=\"M120-120v-720h720v720H120Zm60-500h600v-160H180v160Zm220 220h160v-160H400v160Zm0 220h160v-160H400v160ZM180-400h160v-160H180v160Zm440 0h160v-160H620v160ZM180-180h160v-160H180v160Zm440 0h160v-160H620v160Z\"/>\n",
              "  </svg>\n",
              "    </button>\n",
              "\n",
              "  <style>\n",
              "    .colab-df-container {\n",
              "      display:flex;\n",
              "      gap: 12px;\n",
              "    }\n",
              "\n",
              "    .colab-df-convert {\n",
              "      background-color: #E8F0FE;\n",
              "      border: none;\n",
              "      border-radius: 50%;\n",
              "      cursor: pointer;\n",
              "      display: none;\n",
              "      fill: #1967D2;\n",
              "      height: 32px;\n",
              "      padding: 0 0 0 0;\n",
              "      width: 32px;\n",
              "    }\n",
              "\n",
              "    .colab-df-convert:hover {\n",
              "      background-color: #E2EBFA;\n",
              "      box-shadow: 0px 1px 2px rgba(60, 64, 67, 0.3), 0px 1px 3px 1px rgba(60, 64, 67, 0.15);\n",
              "      fill: #174EA6;\n",
              "    }\n",
              "\n",
              "    .colab-df-buttons div {\n",
              "      margin-bottom: 4px;\n",
              "    }\n",
              "\n",
              "    [theme=dark] .colab-df-convert {\n",
              "      background-color: #3B4455;\n",
              "      fill: #D2E3FC;\n",
              "    }\n",
              "\n",
              "    [theme=dark] .colab-df-convert:hover {\n",
              "      background-color: #434B5C;\n",
              "      box-shadow: 0px 1px 3px 1px rgba(0, 0, 0, 0.15);\n",
              "      filter: drop-shadow(0px 1px 2px rgba(0, 0, 0, 0.3));\n",
              "      fill: #FFFFFF;\n",
              "    }\n",
              "  </style>\n",
              "\n",
              "    <script>\n",
              "      const buttonEl =\n",
              "        document.querySelector('#df-3713eaad-ed8e-4709-b0a0-b42e33c7e0fe button.colab-df-convert');\n",
              "      buttonEl.style.display =\n",
              "        google.colab.kernel.accessAllowed ? 'block' : 'none';\n",
              "\n",
              "      async function convertToInteractive(key) {\n",
              "        const element = document.querySelector('#df-3713eaad-ed8e-4709-b0a0-b42e33c7e0fe');\n",
              "        const dataTable =\n",
              "          await google.colab.kernel.invokeFunction('convertToInteractive',\n",
              "                                                    [key], {});\n",
              "        if (!dataTable) return;\n",
              "\n",
              "        const docLinkHtml = 'Like what you see? Visit the ' +\n",
              "          '<a target=\"_blank\" href=https://colab.research.google.com/notebooks/data_table.ipynb>data table notebook</a>'\n",
              "          + ' to learn more about interactive tables.';\n",
              "        element.innerHTML = '';\n",
              "        dataTable['output_type'] = 'display_data';\n",
              "        await google.colab.output.renderOutput(dataTable, element);\n",
              "        const docLink = document.createElement('div');\n",
              "        docLink.innerHTML = docLinkHtml;\n",
              "        element.appendChild(docLink);\n",
              "      }\n",
              "    </script>\n",
              "  </div>\n",
              "\n",
              "\n",
              "    <div id=\"df-a54c3b04-2c98-42c0-b0e6-31e89e3d98ff\">\n",
              "      <button class=\"colab-df-quickchart\" onclick=\"quickchart('df-a54c3b04-2c98-42c0-b0e6-31e89e3d98ff')\"\n",
              "                title=\"Suggest charts\"\n",
              "                style=\"display:none;\">\n",
              "\n",
              "<svg xmlns=\"http://www.w3.org/2000/svg\" height=\"24px\"viewBox=\"0 0 24 24\"\n",
              "     width=\"24px\">\n",
              "    <g>\n",
              "        <path d=\"M19 3H5c-1.1 0-2 .9-2 2v14c0 1.1.9 2 2 2h14c1.1 0 2-.9 2-2V5c0-1.1-.9-2-2-2zM9 17H7v-7h2v7zm4 0h-2V7h2v10zm4 0h-2v-4h2v4z\"/>\n",
              "    </g>\n",
              "</svg>\n",
              "      </button>\n",
              "\n",
              "<style>\n",
              "  .colab-df-quickchart {\n",
              "      --bg-color: #E8F0FE;\n",
              "      --fill-color: #1967D2;\n",
              "      --hover-bg-color: #E2EBFA;\n",
              "      --hover-fill-color: #174EA6;\n",
              "      --disabled-fill-color: #AAA;\n",
              "      --disabled-bg-color: #DDD;\n",
              "  }\n",
              "\n",
              "  [theme=dark] .colab-df-quickchart {\n",
              "      --bg-color: #3B4455;\n",
              "      --fill-color: #D2E3FC;\n",
              "      --hover-bg-color: #434B5C;\n",
              "      --hover-fill-color: #FFFFFF;\n",
              "      --disabled-bg-color: #3B4455;\n",
              "      --disabled-fill-color: #666;\n",
              "  }\n",
              "\n",
              "  .colab-df-quickchart {\n",
              "    background-color: var(--bg-color);\n",
              "    border: none;\n",
              "    border-radius: 50%;\n",
              "    cursor: pointer;\n",
              "    display: none;\n",
              "    fill: var(--fill-color);\n",
              "    height: 32px;\n",
              "    padding: 0;\n",
              "    width: 32px;\n",
              "  }\n",
              "\n",
              "  .colab-df-quickchart:hover {\n",
              "    background-color: var(--hover-bg-color);\n",
              "    box-shadow: 0 1px 2px rgba(60, 64, 67, 0.3), 0 1px 3px 1px rgba(60, 64, 67, 0.15);\n",
              "    fill: var(--button-hover-fill-color);\n",
              "  }\n",
              "\n",
              "  .colab-df-quickchart-complete:disabled,\n",
              "  .colab-df-quickchart-complete:disabled:hover {\n",
              "    background-color: var(--disabled-bg-color);\n",
              "    fill: var(--disabled-fill-color);\n",
              "    box-shadow: none;\n",
              "  }\n",
              "\n",
              "  .colab-df-spinner {\n",
              "    border: 2px solid var(--fill-color);\n",
              "    border-color: transparent;\n",
              "    border-bottom-color: var(--fill-color);\n",
              "    animation:\n",
              "      spin 1s steps(1) infinite;\n",
              "  }\n",
              "\n",
              "  @keyframes spin {\n",
              "    0% {\n",
              "      border-color: transparent;\n",
              "      border-bottom-color: var(--fill-color);\n",
              "      border-left-color: var(--fill-color);\n",
              "    }\n",
              "    20% {\n",
              "      border-color: transparent;\n",
              "      border-left-color: var(--fill-color);\n",
              "      border-top-color: var(--fill-color);\n",
              "    }\n",
              "    30% {\n",
              "      border-color: transparent;\n",
              "      border-left-color: var(--fill-color);\n",
              "      border-top-color: var(--fill-color);\n",
              "      border-right-color: var(--fill-color);\n",
              "    }\n",
              "    40% {\n",
              "      border-color: transparent;\n",
              "      border-right-color: var(--fill-color);\n",
              "      border-top-color: var(--fill-color);\n",
              "    }\n",
              "    60% {\n",
              "      border-color: transparent;\n",
              "      border-right-color: var(--fill-color);\n",
              "    }\n",
              "    80% {\n",
              "      border-color: transparent;\n",
              "      border-right-color: var(--fill-color);\n",
              "      border-bottom-color: var(--fill-color);\n",
              "    }\n",
              "    90% {\n",
              "      border-color: transparent;\n",
              "      border-bottom-color: var(--fill-color);\n",
              "    }\n",
              "  }\n",
              "</style>\n",
              "\n",
              "      <script>\n",
              "        async function quickchart(key) {\n",
              "          const quickchartButtonEl =\n",
              "            document.querySelector('#' + key + ' button');\n",
              "          quickchartButtonEl.disabled = true;  // To prevent multiple clicks.\n",
              "          quickchartButtonEl.classList.add('colab-df-spinner');\n",
              "          try {\n",
              "            const charts = await google.colab.kernel.invokeFunction(\n",
              "                'suggestCharts', [key], {});\n",
              "          } catch (error) {\n",
              "            console.error('Error during call to suggestCharts:', error);\n",
              "          }\n",
              "          quickchartButtonEl.classList.remove('colab-df-spinner');\n",
              "          quickchartButtonEl.classList.add('colab-df-quickchart-complete');\n",
              "        }\n",
              "        (() => {\n",
              "          let quickchartButtonEl =\n",
              "            document.querySelector('#df-a54c3b04-2c98-42c0-b0e6-31e89e3d98ff button');\n",
              "          quickchartButtonEl.style.display =\n",
              "            google.colab.kernel.accessAllowed ? 'block' : 'none';\n",
              "        })();\n",
              "      </script>\n",
              "    </div>\n",
              "\n",
              "    </div>\n",
              "  </div>\n"
            ],
            "application/vnd.google.colaboratory.intrinsic+json": {
              "type": "dataframe",
              "variable_name": "data"
            }
          },
          "metadata": {},
          "execution_count": 5
        }
      ]
    },
    {
      "cell_type": "code",
      "source": [
        "data.shape"
      ],
      "metadata": {
        "colab": {
          "base_uri": "https://localhost:8080/"
        },
        "id": "I8nb7t7eZ5_w",
        "outputId": "34098798-40db-4ac6-8e79-712869f31a1d"
      },
      "execution_count": 6,
      "outputs": [
        {
          "output_type": "execute_result",
          "data": {
            "text/plain": [
              "(14552, 188)"
            ]
          },
          "metadata": {},
          "execution_count": 6
        }
      ]
    },
    {
      "cell_type": "code",
      "source": [
        "n_classes = len(np.unique(data[187].value_counts()))\n",
        "n_classes"
      ],
      "metadata": {
        "colab": {
          "base_uri": "https://localhost:8080/"
        },
        "id": "1GTssCVrZ8SX",
        "outputId": "c20b70a7-beb9-41fb-f234-c2be55da76da"
      },
      "execution_count": 7,
      "outputs": [
        {
          "output_type": "execute_result",
          "data": {
            "text/plain": [
              "2"
            ]
          },
          "metadata": {},
          "execution_count": 7
        }
      ]
    },
    {
      "cell_type": "code",
      "source": [
        "#Extracting seq length and labels\n",
        "X = data[data.columns[0:-1]].values\n",
        "y = data[data.columns[-1]].values\n",
        "\n",
        "#Split\n",
        "X_train, X_test, y_train, y_test = train_test_split(X, y, test_size=0.2, random_state=42)\n",
        "print(X_train.shape)\n",
        "print(X_test.shape)"
      ],
      "metadata": {
        "colab": {
          "base_uri": "https://localhost:8080/"
        },
        "id": "tS8-pEhWaBys",
        "outputId": "143757d5-5fee-4348-e588-bc3b768612cb"
      },
      "execution_count": 8,
      "outputs": [
        {
          "output_type": "stream",
          "name": "stdout",
          "text": [
            "(11641, 187)\n",
            "(2911, 187)\n"
          ]
        }
      ]
    },
    {
      "cell_type": "code",
      "source": [
        "#Transform data into 3D (Batchsize, channels, seq_length)\n",
        "N_train = X_train.shape[0]\n",
        "channels = 1\n",
        "seq_len = X_train.shape[1]\n",
        "N_test = X_test.shape[0]\n",
        "\n",
        "X_train = X_train.reshape(N_train, channels ,seq_len)\n",
        "X_test = X_test.reshape(N_test, channels ,seq_len)\n",
        "\n",
        "print(X_train.shape)\n",
        "print(y_train.shape)\n",
        "print(X_test.shape)\n",
        "print(y_test.shape)"
      ],
      "metadata": {
        "colab": {
          "base_uri": "https://localhost:8080/"
        },
        "id": "A_SOdTmCaLSv",
        "outputId": "d01e5d8b-3e60-4521-f2bb-f01233fac7c4"
      },
      "execution_count": 9,
      "outputs": [
        {
          "output_type": "stream",
          "name": "stdout",
          "text": [
            "(11641, 1, 187)\n",
            "(11641,)\n",
            "(2911, 1, 187)\n",
            "(2911,)\n"
          ]
        }
      ]
    },
    {
      "cell_type": "code",
      "source": [
        "#Transform to tensor and use dataloader\n",
        "\n",
        "# Convert to tensor\n",
        "train_data = torch.tensor(X_train).float()\n",
        "train_labels = torch.tensor(y_train).long()\n",
        "test_data = torch.tensor(X_test).float()\n",
        "test_labels = torch.tensor(y_test).long()\n",
        "\n",
        "\n",
        "# Convert to PyTorch Datasets\n",
        "train_data = TensorDataset(train_data,train_labels)\n",
        "test_data  = TensorDataset(test_data,test_labels)\n",
        "\n",
        "# Place into dataloader\n",
        "batchsize    = 32\n",
        "train_loader = DataLoader(train_data, batch_size = batchsize,shuffle=True,drop_last=True)\n",
        "test_loader  = DataLoader(test_data, batch_size = test_data.tensors[0].shape[0])"
      ],
      "metadata": {
        "id": "be69BE1eaYTj"
      },
      "execution_count": 10,
      "outputs": []
    },
    {
      "cell_type": "code",
      "source": [
        "#Train batch\n",
        "for x,y in train_loader:\n",
        "    break\n",
        "print(x.shape)\n",
        "print(y.shape)"
      ],
      "metadata": {
        "colab": {
          "base_uri": "https://localhost:8080/"
        },
        "id": "PsTJQqR1adqb",
        "outputId": "e782eafa-9af5-4dda-e9e9-eb510cd49058"
      },
      "execution_count": 11,
      "outputs": [
        {
          "output_type": "stream",
          "name": "stdout",
          "text": [
            "torch.Size([32, 1, 187])\n",
            "torch.Size([32])\n"
          ]
        }
      ]
    },
    {
      "cell_type": "code",
      "source": [
        "#Test Batch\n",
        "for x,y in test_loader:\n",
        "    break\n",
        "print(x.shape)\n",
        "print(y.shape)"
      ],
      "metadata": {
        "colab": {
          "base_uri": "https://localhost:8080/"
        },
        "id": "IgCRJ5BcahvO",
        "outputId": "73e0cf8b-a472-4a1a-fd12-2334fe92f2c1"
      },
      "execution_count": 12,
      "outputs": [
        {
          "output_type": "stream",
          "name": "stdout",
          "text": [
            "torch.Size([2911, 1, 187])\n",
            "torch.Size([2911])\n"
          ]
        }
      ]
    },
    {
      "cell_type": "code",
      "source": [
        "#Creating the model\n",
        "\n",
        "model = nn.Sequential(nn.Conv1d(in_channels = 1, out_channels = 64, kernel_size = 5, stride = 1),\n",
        "                      nn.ReLU(),\n",
        "                      nn.Conv1d(in_channels = 64, out_channels = 128, kernel_size = 2, stride = 1),\n",
        "                      nn.ReLU(),\n",
        "                      nn.Conv1d(in_channels = 128, out_channels = 256, kernel_size = 4, stride = 1),\n",
        "                      nn.ReLU(),\n",
        "                      nn.MaxPool1d(2,2),\n",
        "                      nn. Flatten(),\n",
        "                      nn.LazyLinear(128),\n",
        "                      nn.Linear(128,2)\n",
        "                      )"
      ],
      "metadata": {
        "id": "1BSjK2Pbaljw"
      },
      "execution_count": 13,
      "outputs": []
    },
    {
      "cell_type": "code",
      "source": [
        "#Training and testing\n",
        "\n",
        "epochs = 51\n",
        "\n",
        "# Loss function\n",
        "\n",
        "lossfunc = nn.CrossEntropyLoss()\n",
        "\n",
        "# optimizer\n",
        "\n",
        "optimizer = torch.optim.SGD(model.parameters(), momentum = 0.9, lr = 0.01)\n",
        "\n",
        "model.to(device) # placing a model on GPU\n",
        "\n",
        "  # Initialize losses and Accuracies\n",
        "\n",
        "losses    = torch.zeros(epochs)\n",
        "trainAcc  = []\n",
        "testAcc   = []\n",
        "\n",
        "\n",
        "# loop over epochs\n",
        "\n",
        "for epoch in range(epochs):\n",
        " model.train()\n",
        "\n",
        " # loop over training data batches\n",
        "\n",
        " batchAcc  = []\n",
        " batchLoss = []\n",
        " for X,y in train_loader:\n",
        "\n",
        "  X = X.to(device) # Placing features on device\n",
        "  y = y.to(device) # placing labels on device\n",
        "\n",
        "  ypred = model(X)\n",
        "  loss = lossfunc(ypred,y)\n",
        "\n",
        "\n",
        "  optimizer.zero_grad()\n",
        "  loss.backward()\n",
        "  optimizer.step()\n",
        "\n",
        "  # Append batchloss\n",
        "\n",
        "  batchLoss.append(loss.item())\n",
        "\n",
        "  ypred = ypred.cpu() # Back to cpu\n",
        "  y = y.cpu()\n",
        "\n",
        "  # compute batch accuracy\n",
        "\n",
        "  acc = 100 * torch.mean((torch.argmax(ypred, dim=1) == y).float())\n",
        "  batchAcc.append(acc)\n",
        "# Batch loop concluded\n",
        "\n",
        "# Average training accuracy (Outside the batchloop)\n",
        "\n",
        " trainAcc.append(np.mean(batchAcc))\n",
        "\n",
        "# Losses through epochs\n",
        "\n",
        " losses[epoch] = np.mean(batchLoss)\n",
        "\n",
        "# TESTING the model\n",
        "\n",
        " model.eval()\n",
        "\n",
        " with torch.no_grad():\n",
        "\n",
        "    for X,y in test_loader:\n",
        "\n",
        "            X = X.to(device)\n",
        "            y = y.to(device)\n",
        "\n",
        "            ypred =  model(X)\n",
        "            ypred = ypred.cpu()\n",
        "            y = y.cpu()\n",
        "\n",
        "\n",
        " # Appending test accuracy\n",
        "\n",
        " testAcc.append(100 * torch.mean((torch.argmax(ypred,dim=1)==y).float()))\n",
        " if (epoch % 10) == 0:\n",
        "\n",
        "        print(f' epochs : {epoch}  loss : {loss}')\n"
      ],
      "metadata": {
        "colab": {
          "base_uri": "https://localhost:8080/"
        },
        "id": "-0OYm1XiarWA",
        "outputId": "8627d045-7129-4e71-e174-bb6938cdf890"
      },
      "execution_count": 14,
      "outputs": [
        {
          "output_type": "stream",
          "name": "stdout",
          "text": [
            " epochs : 0  loss : 0.41174980998039246\n",
            " epochs : 10  loss : 0.03364300727844238\n",
            " epochs : 20  loss : 0.005133954342454672\n",
            " epochs : 30  loss : 0.03821047767996788\n",
            " epochs : 40  loss : 4.962585080647841e-05\n",
            " epochs : 50  loss : 0.00016143951506819576\n"
          ]
        }
      ]
    },
    {
      "cell_type": "code",
      "source": [
        "fig,ax = plt.subplots(1,2,figsize=(18,6))\n",
        "\n",
        "ax[0].plot(losses,'g', lw = 3)\n",
        "ax[0].set_xlabel('Epochs', fontsize = 15)\n",
        "ax[0].set_ylabel('Loss', fontsize = 15)\n",
        "ax[0].legend(['Train','Test'], fontsize = 15)\n",
        "ax[0].set_title('Training loss', fontsize = 25)\n",
        "\n",
        "ax[1].plot(trainAcc,label='Training Acc', lw =3)\n",
        "ax[1].plot(testAcc,label='Testing Acc', lw = 3)\n",
        "ax[1].set_xlabel('Epochs', fontsize = 15)\n",
        "ax[1].set_ylabel('Accuracy (%)', fontsize = 15)\n",
        "ax[1].set_ylim([10,100])\n",
        "ax[1].set_title(f'Train Accuracy: {trainAcc[-1]:.2f}% \\n Test Accuracy: {testAcc[-1]:.2f}%', fontsize = 15)\n",
        "ax[1].legend(fontsize = 15)\n",
        "\n",
        "plt.show()"
      ],
      "metadata": {
        "colab": {
          "base_uri": "https://localhost:8080/",
          "height": 416
        },
        "id": "2G5mGsIxcG7a",
        "outputId": "68a2f784-768d-4447-bf96-0c69d34efcc4"
      },
      "execution_count": 15,
      "outputs": [
        {
          "output_type": "display_data",
          "data": {
            "text/plain": [
              "<Figure size 1800x600 with 2 Axes>"
            ],
            "image/png": "[encoded data removed]"
          },
          "metadata": {}
        }
      ]
    }
  ]
}