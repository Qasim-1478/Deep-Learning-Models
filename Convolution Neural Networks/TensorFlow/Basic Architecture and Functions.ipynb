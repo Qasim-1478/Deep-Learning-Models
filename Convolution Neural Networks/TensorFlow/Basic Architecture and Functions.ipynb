{
 "cells": [
  {
   "cell_type": "markdown",
   "id": "537077d0",
   "metadata": {
    "id": "537077d0"
   },
   "source": [
    "# Import the Libraries"
   ]
  },
  {
   "cell_type": "code",
   "execution_count": 23,
   "id": "4sPDiWr3LIK0",
   "metadata": {
    "executionInfo": {
     "elapsed": 192,
     "status": "ok",
     "timestamp": 1718494128043,
     "user": {
      "displayName": "zeeshan ahmad",
      "userId": "09790783261567949831"
     },
     "user_tz": 240
    },
    "id": "4sPDiWr3LIK0"
   },
   "outputs": [],
   "source": [
    "import tensorflow as tf\n",
    "from keras.models import Sequential\n",
    "from keras.layers import Conv2D, Conv2DTranspose, MaxPooling2D\n",
    "import numpy as np"
   ]
  },
  {
   "cell_type": "markdown",
   "id": "c32cd4d7",
   "metadata": {
    "id": "c32cd4d7"
   },
   "source": [
    "# Conv2D() Tensorflow"
   ]
  },
  {
   "cell_type": "code",
   "execution_count": 24,
   "id": "f998286e",
   "metadata": {
    "executionInfo": {
     "elapsed": 170,
     "status": "ok",
     "timestamp": 1718494221148,
     "user": {
      "displayName": "zeeshan ahmad",
      "userId": "09790783261567949831"
     },
     "user_tz": 240
    },
    "id": "f998286e"
   },
   "outputs": [],
   "source": [
    "filters = 10\n",
    "kernel_size  = 5"
   ]
  },
  {
   "cell_type": "code",
   "execution_count": 25,
   "id": "d17e4f67",
   "metadata": {
    "executionInfo": {
     "elapsed": 173,
     "status": "ok",
     "timestamp": 1718494222294,
     "user": {
      "displayName": "zeeshan ahmad",
      "userId": "09790783261567949831"
     },
     "user_tz": 240
    },
    "id": "d17e4f67"
   },
   "outputs": [],
   "source": [
    "conv_TF = Conv2D( filters, kernel_size, strides = (1, 1), padding = 'same') # Padding = 'valid' means no padding\n",
    "                                                                             # Padding = 'same' means output shape = input shape"
   ]
  },
  {
   "cell_type": "code",
   "execution_count": 26,
   "id": "cff9f7f8",
   "metadata": {
    "executionInfo": {
     "elapsed": 178,
     "status": "ok",
     "timestamp": 1718494266470,
     "user": {
      "displayName": "zeeshan ahmad",
      "userId": "09790783261567949831"
     },
     "user_tz": 240
    },
    "id": "cff9f7f8"
   },
   "outputs": [],
   "source": [
    "x = np.random.rand(1, 64, 64, 3) # Original Image"
   ]
  },
  {
   "cell_type": "code",
   "execution_count": 27,
   "id": "d9cd9412",
   "metadata": {
    "executionInfo": {
     "elapsed": 168,
     "status": "ok",
     "timestamp": 1718494275413,
     "user": {
      "displayName": "zeeshan ahmad",
      "userId": "09790783261567949831"
     },
     "user_tz": 240
    },
    "id": "d9cd9412"
   },
   "outputs": [],
   "source": [
    "out_conv_TF = conv_TF(x)"
   ]
  },
  {
   "cell_type": "code",
   "execution_count": 28,
   "id": "c658692f",
   "metadata": {
    "colab": {
     "base_uri": "https://localhost:8080/"
    },
    "executionInfo": {
     "elapsed": 162,
     "status": "ok",
     "timestamp": 1718494277097,
     "user": {
      "displayName": "zeeshan ahmad",
      "userId": "09790783261567949831"
     },
     "user_tz": 240
    },
    "id": "c658692f",
    "outputId": "4d4d1129-448c-4f6b-9588-93368ac9fc81"
   },
   "outputs": [
    {
     "name": "stdout",
     "output_type": "stream",
     "text": [
      "(1, 64, 64, 10)\n"
     ]
    }
   ],
   "source": [
    "print(out_conv_TF.shape)"
   ]
  },
  {
   "cell_type": "markdown",
   "id": "08bdee85",
   "metadata": {
    "id": "08bdee85"
   },
   "source": [
    "# Conv2DTranspose() Tensorflow"
   ]
  },
  {
   "cell_type": "code",
   "execution_count": 29,
   "id": "9da6954c",
   "metadata": {
    "executionInfo": {
     "elapsed": 154,
     "status": "ok",
     "timestamp": 1718494339501,
     "user": {
      "displayName": "zeeshan ahmad",
      "userId": "09790783261567949831"
     },
     "user_tz": 240
    },
    "id": "9da6954c"
   },
   "outputs": [],
   "source": [
    "filters = 3\n",
    "kernel_size  = 5"
   ]
  },
  {
   "cell_type": "code",
   "execution_count": 30,
   "id": "4fee9584",
   "metadata": {
    "executionInfo": {
     "elapsed": 161,
     "status": "ok",
     "timestamp": 1718494340865,
     "user": {
      "displayName": "zeeshan ahmad",
      "userId": "09790783261567949831"
     },
     "user_tz": 240
    },
    "id": "4fee9584"
   },
   "outputs": [],
   "source": [
    "conv2D_Transpose_TF = Conv2DTranspose(filters, kernel_size, strides=(1, 1), padding='same')"
   ]
  },
  {
   "cell_type": "code",
   "execution_count": 31,
   "id": "cbda6079",
   "metadata": {
    "executionInfo": {
     "elapsed": 157,
     "status": "ok",
     "timestamp": 1718494346598,
     "user": {
      "displayName": "zeeshan ahmad",
      "userId": "09790783261567949831"
     },
     "user_tz": 240
    },
    "id": "cbda6079"
   },
   "outputs": [],
   "source": [
    "out_conv2D_Transpose_TF = conv2D_Transpose_TF(out_conv_TF)"
   ]
  },
  {
   "cell_type": "code",
   "execution_count": 32,
   "id": "9f6b0e4f",
   "metadata": {
    "colab": {
     "base_uri": "https://localhost:8080/"
    },
    "executionInfo": {
     "elapsed": 3,
     "status": "ok",
     "timestamp": 1718494347556,
     "user": {
      "displayName": "zeeshan ahmad",
      "userId": "09790783261567949831"
     },
     "user_tz": 240
    },
    "id": "9f6b0e4f",
    "outputId": "52401c82-8e67-4501-ce5b-08fabb6932dc"
   },
   "outputs": [
    {
     "name": "stdout",
     "output_type": "stream",
     "text": [
      "(1, 64, 64, 3)\n"
     ]
    }
   ],
   "source": [
    "print(out_conv2D_Transpose_TF.shape) # recover the original shape after transpose"
   ]
  },
  {
   "cell_type": "code",
   "execution_count": null,
   "id": "46be9ca8",
   "metadata": {
    "id": "46be9ca8"
   },
   "outputs": [],
   "source": []
  },
  {
   "cell_type": "markdown",
   "id": "71f5abda",
   "metadata": {
    "id": "71f5abda"
   },
   "source": [
    "# Customize Padding, i.e Padding = (1, 1) for Conv2D in Tensorflow"
   ]
  },
  {
   "cell_type": "code",
   "execution_count": 33,
   "id": "7cf1227b",
   "metadata": {
    "executionInfo": {
     "elapsed": 154,
     "status": "ok",
     "timestamp": 1718494405873,
     "user": {
      "displayName": "zeeshan ahmad",
      "userId": "09790783261567949831"
     },
     "user_tz": 240
    },
    "id": "7cf1227b"
   },
   "outputs": [],
   "source": [
    "from keras.layers import ZeroPadding2D"
   ]
  },
  {
   "cell_type": "code",
   "execution_count": 34,
   "id": "be4e1c0d",
   "metadata": {
    "executionInfo": {
     "elapsed": 179,
     "status": "ok",
     "timestamp": 1718494417161,
     "user": {
      "displayName": "zeeshan ahmad",
      "userId": "09790783261567949831"
     },
     "user_tz": 240
    },
    "id": "be4e1c0d"
   },
   "outputs": [],
   "source": [
    "X = np.random.rand(1, 64, 64, 3) # Original Image"
   ]
  },
  {
   "cell_type": "code",
   "execution_count": 35,
   "id": "84c2d2fa",
   "metadata": {
    "executionInfo": {
     "elapsed": 158,
     "status": "ok",
     "timestamp": 1718494433790,
     "user": {
      "displayName": "zeeshan ahmad",
      "userId": "09790783261567949831"
     },
     "user_tz": 240
    },
    "id": "84c2d2fa"
   },
   "outputs": [],
   "source": [
    "pad = ZeroPadding2D(padding=(1, 1))"
   ]
  },
  {
   "cell_type": "code",
   "execution_count": 36,
   "id": "21b7ccc0",
   "metadata": {
    "executionInfo": {
     "elapsed": 226,
     "status": "ok",
     "timestamp": 1718494438404,
     "user": {
      "displayName": "zeeshan ahmad",
      "userId": "09790783261567949831"
     },
     "user_tz": 240
    },
    "id": "21b7ccc0"
   },
   "outputs": [],
   "source": [
    "y = pad( X )"
   ]
  },
  {
   "cell_type": "code",
   "execution_count": 37,
   "id": "003b9c8d",
   "metadata": {
    "colab": {
     "base_uri": "https://localhost:8080/"
    },
    "executionInfo": {
     "elapsed": 197,
     "status": "ok",
     "timestamp": 1718494439912,
     "user": {
      "displayName": "zeeshan ahmad",
      "userId": "09790783261567949831"
     },
     "user_tz": 240
    },
    "id": "003b9c8d",
    "outputId": "e180552f-79bf-4294-96a5-1d2de0808a97"
   },
   "outputs": [
    {
     "name": "stdout",
     "output_type": "stream",
     "text": [
      "(1, 66, 66, 3)\n"
     ]
    }
   ],
   "source": [
    "print(y.shape)"
   ]
  },
  {
   "cell_type": "code",
   "execution_count": 38,
   "id": "678d1328",
   "metadata": {
    "executionInfo": {
     "elapsed": 165,
     "status": "ok",
     "timestamp": 1718494482267,
     "user": {
      "displayName": "zeeshan ahmad",
      "userId": "09790783261567949831"
     },
     "user_tz": 240
    },
    "id": "678d1328"
   },
   "outputs": [],
   "source": [
    "filters = 10\n",
    "kernel_size  = 5"
   ]
  },
  {
   "cell_type": "code",
   "execution_count": 39,
   "id": "dcff226f",
   "metadata": {
    "executionInfo": {
     "elapsed": 189,
     "status": "ok",
     "timestamp": 1718494484657,
     "user": {
      "displayName": "zeeshan ahmad",
      "userId": "09790783261567949831"
     },
     "user_tz": 240
    },
    "id": "dcff226f"
   },
   "outputs": [],
   "source": [
    "conv_TF = Conv2D( filters, kernel_size, strides = (1, 1), padding = 'valid')"
   ]
  },
  {
   "cell_type": "code",
   "execution_count": 40,
   "id": "c75ef716",
   "metadata": {
    "executionInfo": {
     "elapsed": 177,
     "status": "ok",
     "timestamp": 1718494489231,
     "user": {
      "displayName": "zeeshan ahmad",
      "userId": "09790783261567949831"
     },
     "user_tz": 240
    },
    "id": "c75ef716"
   },
   "outputs": [],
   "source": [
    "out_conv_TF_2 = conv_TF(y)"
   ]
  },
  {
   "cell_type": "code",
   "execution_count": 41,
   "id": "59753e0a",
   "metadata": {
    "colab": {
     "base_uri": "https://localhost:8080/"
    },
    "executionInfo": {
     "elapsed": 182,
     "status": "ok",
     "timestamp": 1718494490215,
     "user": {
      "displayName": "zeeshan ahmad",
      "userId": "09790783261567949831"
     },
     "user_tz": 240
    },
    "id": "59753e0a",
    "outputId": "6c9e7b53-8353-4f1c-cc8c-48df66683536"
   },
   "outputs": [
    {
     "name": "stdout",
     "output_type": "stream",
     "text": [
      "(1, 62, 62, 10)\n"
     ]
    }
   ],
   "source": [
    "print(out_conv_TF_2.shape)"
   ]
  },
  {
   "cell_type": "markdown",
   "id": "158e89fb",
   "metadata": {
    "id": "158e89fb"
   },
   "source": [
    "# Maxpooling2D TensorFlow"
   ]
  },
  {
   "cell_type": "code",
   "execution_count": 42,
   "id": "6bc88ecc",
   "metadata": {
    "executionInfo": {
     "elapsed": 176,
     "status": "ok",
     "timestamp": 1718494564993,
     "user": {
      "displayName": "zeeshan ahmad",
      "userId": "09790783261567949831"
     },
     "user_tz": 240
    },
    "id": "6bc88ecc"
   },
   "outputs": [],
   "source": [
    "pool = MaxPooling2D(pool_size=(2, 2),strides = 2)"
   ]
  },
  {
   "cell_type": "code",
   "execution_count": 43,
   "id": "7fc5d353",
   "metadata": {
    "executionInfo": {
     "elapsed": 198,
     "status": "ok",
     "timestamp": 1718494573581,
     "user": {
      "displayName": "zeeshan ahmad",
      "userId": "09790783261567949831"
     },
     "user_tz": 240
    },
    "id": "7fc5d353"
   },
   "outputs": [],
   "source": [
    "X = np.random.rand(1, 64, 64, 3)"
   ]
  },
  {
   "cell_type": "code",
   "execution_count": 44,
   "id": "ccabffc6",
   "metadata": {
    "executionInfo": {
     "elapsed": 189,
     "status": "ok",
     "timestamp": 1718494577537,
     "user": {
      "displayName": "zeeshan ahmad",
      "userId": "09790783261567949831"
     },
     "user_tz": 240
    },
    "id": "ccabffc6"
   },
   "outputs": [],
   "source": [
    "y = pool(X)"
   ]
  },
  {
   "cell_type": "code",
   "execution_count": 45,
   "id": "f73483dc",
   "metadata": {
    "colab": {
     "base_uri": "https://localhost:8080/"
    },
    "executionInfo": {
     "elapsed": 162,
     "status": "ok",
     "timestamp": 1718494578964,
     "user": {
      "displayName": "zeeshan ahmad",
      "userId": "09790783261567949831"
     },
     "user_tz": 240
    },
    "id": "f73483dc",
    "outputId": "ea93dc33-7f26-4f08-e19a-dc49f2dab94b"
   },
   "outputs": [
    {
     "name": "stdout",
     "output_type": "stream",
     "text": [
      "(1, 32, 32, 3)\n"
     ]
    }
   ],
   "source": [
    "print(y.shape)"
   ]
  },
  {
   "cell_type": "code",
   "execution_count": null,
   "id": "94ec8043",
   "metadata": {
    "id": "94ec8043"
   },
   "outputs": [],
   "source": []
  },
  {
   "cell_type": "code",
   "execution_count": null,
   "id": "99138650",
   "metadata": {
    "id": "99138650"
   },
   "outputs": [],
   "source": []
  }
 ],
 "metadata": {
  "colab": {
   "provenance": []
  },
  "kernelspec": {
   "display_name": "Python 3 (ipykernel)",
   "language": "python",
   "name": "python3"
  },
  "language_info": {
   "codemirror_mode": {
    "name": "ipython",
    "version": 3
   },
   "file_extension": ".py",
   "mimetype": "text/x-python",
   "name": "python",
   "nbconvert_exporter": "python",
   "pygments_lexer": "ipython3",
   "version": "3.9.7"
  }
 },
 "nbformat": 4,
 "nbformat_minor": 5
}
