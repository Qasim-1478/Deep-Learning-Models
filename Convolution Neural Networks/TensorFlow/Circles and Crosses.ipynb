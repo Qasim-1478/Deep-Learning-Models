{
 "cells": [
  {
   "cell_type": "markdown",
   "metadata": {
    "id": "oa7E1eb6UmGw"
   },
   "source": [
    "## Perform standard imports"
   ]
  },
  {
   "cell_type": "code",
   "execution_count": null,
   "metadata": {
    "colab": {
     "base_uri": "https://localhost:8080/"
    },
    "executionInfo": {
     "elapsed": 20166,
     "status": "ok",
     "timestamp": 1718494664039,
     "user": {
      "displayName": "zeeshan ahmad",
      "userId": "09790783261567949831"
     },
     "user_tz": 240
    },
    "id": "SHAT-gZOVECg",
    "outputId": "21da816d-c459-44f6-a983-40fbd04f63a0"
   },
   "outputs": [
    {
     "name": "stdout",
     "output_type": "stream",
     "text": [
      "Collecting split-folders\n",
      "  Downloading split_folders-0.5.1-py3-none-any.whl (8.4 kB)\n",
      "Installing collected packages: split-folders\n",
      "Successfully installed split-folders-0.5.1\n"
     ]
    }
   ],
   "source": [
    "! pip install split-folders"
   ]
  },
  {
   "cell_type": "code",
   "execution_count": null,
   "metadata": {
    "id": "KoxB1QxeUmG0"
   },
   "outputs": [],
   "source": [
    "import tensorflow as tf\n",
    "from keras.models import Sequential\n",
    "from keras.layers import Activation, Flatten, Dense, Conv2D, MaxPooling2D\n",
    "from keras.preprocessing.image import ImageDataGenerator\n",
    "import splitfolders\n",
    "import numpy as np\n",
    "import pandas as pd\n",
    "import matplotlib.pyplot as plt\n",
    "from matplotlib import style"
   ]
  },
  {
   "cell_type": "markdown",
   "metadata": {
    "id": "sTBYnf46PCjr"
   },
   "source": [
    "# Check GPU"
   ]
  },
  {
   "cell_type": "code",
   "execution_count": null,
   "metadata": {
    "colab": {
     "base_uri": "https://localhost:8080/"
    },
    "executionInfo": {
     "elapsed": 1161,
     "status": "ok",
     "timestamp": 1718494674359,
     "user": {
      "displayName": "zeeshan ahmad",
      "userId": "09790783261567949831"
     },
     "user_tz": 240
    },
    "id": "G_ZJ-fgYUmG2",
    "outputId": "e8bdb670-3ce0-4558-f8ec-43185d4982cf"
   },
   "outputs": [
    {
     "name": "stdout",
     "output_type": "stream",
     "text": [
      "GPU name:  [PhysicalDevice(name='/physical_device:GPU:0', device_type='GPU')]\n"
     ]
    }
   ],
   "source": [
    "print('GPU name: ', tf.config.experimental.list_physical_devices('GPU'))"
   ]
  },
  {
   "cell_type": "code",
   "execution_count": null,
   "metadata": {
    "colab": {
     "base_uri": "https://localhost:8080/"
    },
    "executionInfo": {
     "elapsed": 5,
     "status": "ok",
     "timestamp": 1718494674535,
     "user": {
      "displayName": "zeeshan ahmad",
      "userId": "09790783261567949831"
     },
     "user_tz": 240
    },
    "id": "gLa5hpn6PHp7",
    "outputId": "59f9c6cc-d4f8-4161-be85-8b5db416a928"
   },
   "outputs": [
    {
     "name": "stdout",
     "output_type": "stream",
     "text": [
      "1 Physical GPUs, 1 Logical GPUs\n"
     ]
    }
   ],
   "source": [
    "gpus = tf.config.experimental.list_physical_devices('GPU')\n",
    "if gpus:\n",
    "    try:\n",
    "        for gpu in gpus:\n",
    "            tf.config.experimental.set_memory_growth(gpu, True)\n",
    "            logical_gpus = tf.config.experimental.list_logical_devices('GPU')\n",
    "            print(len(gpus), \"Physical GPUs,\", len(logical_gpus), \"Logical GPUs\")\n",
    "    except RuntimeError as e:\n",
    "        print(e)"
   ]
  },
  {
   "cell_type": "markdown",
   "metadata": {
    "id": "QsLdNQwJUmG4"
   },
   "source": [
    "## Prepare train and test sets, loaders"
   ]
  },
  {
   "cell_type": "code",
   "execution_count": null,
   "metadata": {
    "colab": {
     "base_uri": "https://localhost:8080/"
    },
    "executionInfo": {
     "elapsed": 60805,
     "status": "ok",
     "timestamp": 1718494871130,
     "user": {
      "displayName": "zeeshan ahmad",
      "userId": "09790783261567949831"
     },
     "user_tz": 240
    },
    "id": "COC1aJtnUmG5",
    "outputId": "74c44c3f-e3cd-4000-b8af-b83329dcce5b",
    "scrolled": true
   },
   "outputs": [
    {
     "name": "stderr",
     "output_type": "stream",
     "text": [
      "Copying files: 2001 files [01:00, 33.07 files/s]\n"
     ]
    }
   ],
   "source": [
    "splitfolders.ratio(\"Circle_Cross\", output=\"TrainTest\",\n",
    "    seed=1337, ratio=(.8, .2), group_prefix=None, move=False) # default values"
   ]
  },
  {
   "cell_type": "markdown",
   "metadata": {
    "id": "KxpIYX4wOz6B"
   },
   "source": [
    "# Creating train and test data generators"
   ]
  },
  {
   "cell_type": "code",
   "execution_count": null,
   "metadata": {
    "id": "RPrnvZiFUmG5"
   },
   "outputs": [],
   "source": [
    "train_datagen = ImageDataGenerator(rescale = 1./255)\n",
    "\n",
    "test_datagen = ImageDataGenerator(rescale = 1./255)"
   ]
  },
  {
   "cell_type": "code",
   "execution_count": null,
   "metadata": {
    "id": "kKeZDmqDUmG6"
   },
   "outputs": [],
   "source": [
    "num_classes = 2\n",
    "img_shape = (116,116,3)\n",
    "batch_size = 32"
   ]
  },
  {
   "cell_type": "markdown",
   "metadata": {
    "id": "re0P17MqUmG6"
   },
   "source": [
    "## Creating Training and Testing Datasets\n"
   ]
  },
  {
   "cell_type": "code",
   "execution_count": null,
   "metadata": {
    "colab": {
     "base_uri": "https://localhost:8080/"
    },
    "executionInfo": {
     "elapsed": 166,
     "status": "ok",
     "timestamp": 1718494905062,
     "user": {
      "displayName": "zeeshan ahmad",
      "userId": "09790783261567949831"
     },
     "user_tz": 240
    },
    "id": "n_nxag5hUmG7",
    "outputId": "67a590fd-1fac-4086-dc23-f05b55b8472f"
   },
   "outputs": [
    {
     "name": "stdout",
     "output_type": "stream",
     "text": [
      "Found 1599 images belonging to 2 classes.\n"
     ]
    }
   ],
   "source": [
    "training_set = train_datagen.flow_from_directory('TrainTest/train',\n",
    "                                                 target_size = (116,116),\n",
    "                                                 class_mode='binary',\n",
    "                                                 shuffle = True,\n",
    "                                                 batch_size = batch_size)\n"
   ]
  },
  {
   "cell_type": "code",
   "execution_count": null,
   "metadata": {
    "colab": {
     "base_uri": "https://localhost:8080/"
    },
    "executionInfo": {
     "elapsed": 168,
     "status": "ok",
     "timestamp": 1718494906682,
     "user": {
      "displayName": "zeeshan ahmad",
      "userId": "09790783261567949831"
     },
     "user_tz": 240
    },
    "id": "lTxN6AjAUmG7",
    "outputId": "58cbcc35-98be-4faa-c8a5-bb4544a247fd"
   },
   "outputs": [
    {
     "name": "stdout",
     "output_type": "stream",
     "text": [
      "Found 401 images belonging to 2 classes.\n"
     ]
    }
   ],
   "source": [
    "test_set = train_datagen.flow_from_directory('TrainTest/val',\n",
    "                                                 target_size = (116,116),\n",
    "                                                 class_mode='binary',\n",
    "                                                 shuffle = False,\n",
    "                                                 batch_size = batch_size)\n"
   ]
  },
  {
   "cell_type": "markdown",
   "metadata": {
    "id": "FxgND91rUmG7"
   },
   "source": [
    "##  Create CNN"
   ]
  },
  {
   "cell_type": "code",
   "execution_count": null,
   "metadata": {
    "id": "OHmVaG8elgfR"
   },
   "outputs": [],
   "source": [
    "model = Sequential()\n",
    "model.add(Conv2D(10 ,kernel_size = (5, 5), padding = 'SAME', input_shape = img_shape))\n",
    "model.add(Activation('relu'))\n",
    "model.add(MaxPooling2D(pool_size=(2, 2),strides = 2))\n",
    "\n",
    "model.add(Conv2D(20, (5, 5), padding='SAME')) # \"SAME\" tries to pad evenly left and right\n",
    "model.add(Activation('relu'))\n",
    "model.add(MaxPooling2D(pool_size=(2, 2),strides = 2))\n",
    "\n",
    "model.add(Flatten())\n",
    "model.add(Dense(64))\n",
    "model.add(Activation('relu'))\n",
    "model.add(Dense(1))\n",
    "model.add(Activation('sigmoid'))\n",
    "\n"
   ]
  },
  {
   "cell_type": "code",
   "execution_count": null,
   "metadata": {
    "colab": {
     "base_uri": "https://localhost:8080/"
    },
    "executionInfo": {
     "elapsed": 174,
     "status": "ok",
     "timestamp": 1718494911600,
     "user": {
      "displayName": "zeeshan ahmad",
      "userId": "09790783261567949831"
     },
     "user_tz": 240
    },
    "id": "MGCDoAqhUmG8",
    "outputId": "3749e700-fb41-4a3b-f5a6-09e80ce9bdc0"
   },
   "outputs": [
    {
     "name": "stdout",
     "output_type": "stream",
     "text": [
      "Model: \"sequential\"\n",
      "_________________________________________________________________\n",
      " Layer (type)                Output Shape              Param #   \n",
      "=================================================================\n",
      " conv2d (Conv2D)             (None, 116, 116, 10)      760       \n",
      "                                                                 \n",
      " activation (Activation)     (None, 116, 116, 10)      0         \n",
      "                                                                 \n",
      " max_pooling2d (MaxPooling2  (None, 58, 58, 10)        0         \n",
      " D)                                                              \n",
      "                                                                 \n",
      " conv2d_1 (Conv2D)           (None, 58, 58, 20)        5020      \n",
      "                                                                 \n",
      " activation_1 (Activation)   (None, 58, 58, 20)        0         \n",
      "                                                                 \n",
      " max_pooling2d_1 (MaxPoolin  (None, 29, 29, 20)        0         \n",
      " g2D)                                                            \n",
      "                                                                 \n",
      " flatten (Flatten)           (None, 16820)             0         \n",
      "                                                                 \n",
      " dense (Dense)               (None, 64)                1076544   \n",
      "                                                                 \n",
      " activation_2 (Activation)   (None, 64)                0         \n",
      "                                                                 \n",
      " dense_1 (Dense)             (None, 1)                 65        \n",
      "                                                                 \n",
      " activation_3 (Activation)   (None, 1)                 0         \n",
      "                                                                 \n",
      "=================================================================\n",
      "Total params: 1082389 (4.13 MB)\n",
      "Trainable params: 1082389 (4.13 MB)\n",
      "Non-trainable params: 0 (0.00 Byte)\n",
      "_________________________________________________________________\n"
     ]
    }
   ],
   "source": [
    "model.summary()"
   ]
  },
  {
   "cell_type": "markdown",
   "metadata": {
    "id": "PRzRGIRWikeH"
   },
   "source": [
    "# Training and Testing the model"
   ]
  },
  {
   "cell_type": "code",
   "execution_count": null,
   "metadata": {
    "id": "WX_W8cqcica_"
   },
   "outputs": [],
   "source": [
    "model.compile(optimizer = tf.keras.optimizers.SGD(learning_rate = 0.01, momentum = 0.9) ,\n",
    "              loss='binary_crossentropy',\n",
    "              metrics=['accuracy'])"
   ]
  },
  {
   "cell_type": "code",
   "execution_count": null,
   "metadata": {
    "colab": {
     "base_uri": "https://localhost:8080/"
    },
    "executionInfo": {
     "elapsed": 303756,
     "status": "ok",
     "timestamp": 1718495247540,
     "user": {
      "displayName": "zeeshan ahmad",
      "userId": "09790783261567949831"
     },
     "user_tz": 240
    },
    "id": "3Vu1QXJyOz6J",
    "outputId": "7396dba1-a809-481e-cc62-c7828f38b511"
   },
   "outputs": [
    {
     "name": "stdout",
     "output_type": "stream",
     "text": [
      "Epoch 1/41\n",
      "50/50 [==============================] - 11s 122ms/step - loss: 0.4006 - accuracy: 0.8349 - val_loss: 0.0762 - val_accuracy: 0.9825\n",
      "Epoch 2/41\n",
      "50/50 [==============================] - 7s 134ms/step - loss: 0.2151 - accuracy: 0.9137 - val_loss: 0.0577 - val_accuracy: 0.9825\n",
      "Epoch 3/41\n",
      "50/50 [==============================] - 6s 120ms/step - loss: 0.0251 - accuracy: 0.9944 - val_loss: 0.0109 - val_accuracy: 0.9975\n",
      "Epoch 4/41\n",
      "50/50 [==============================] - 7s 131ms/step - loss: 0.0094 - accuracy: 0.9981 - val_loss: 0.0168 - val_accuracy: 0.9950\n",
      "Epoch 5/41\n",
      "50/50 [==============================] - 6s 114ms/step - loss: 0.0052 - accuracy: 0.9981 - val_loss: 0.0046 - val_accuracy: 0.9975\n",
      "Epoch 6/41\n",
      "50/50 [==============================] - 6s 122ms/step - loss: 0.0024 - accuracy: 0.9994 - val_loss: 0.0074 - val_accuracy: 0.9975\n",
      "Epoch 7/41\n",
      "50/50 [==============================] - 6s 125ms/step - loss: 0.0013 - accuracy: 1.0000 - val_loss: 0.0050 - val_accuracy: 0.9975\n",
      "Epoch 8/41\n",
      "50/50 [==============================] - 6s 114ms/step - loss: 8.0929e-04 - accuracy: 1.0000 - val_loss: 0.0053 - val_accuracy: 0.9975\n",
      "Epoch 9/41\n",
      "50/50 [==============================] - 6s 117ms/step - loss: 5.8316e-04 - accuracy: 1.0000 - val_loss: 0.0043 - val_accuracy: 0.9975\n",
      "Epoch 10/41\n",
      "50/50 [==============================] - 6s 115ms/step - loss: 4.5325e-04 - accuracy: 1.0000 - val_loss: 0.0046 - val_accuracy: 0.9975\n",
      "Epoch 11/41\n",
      "50/50 [==============================] - 6s 125ms/step - loss: 3.6145e-04 - accuracy: 1.0000 - val_loss: 0.0045 - val_accuracy: 0.9975\n",
      "Epoch 12/41\n",
      "50/50 [==============================] - 7s 138ms/step - loss: 3.0874e-04 - accuracy: 1.0000 - val_loss: 0.0049 - val_accuracy: 0.9975\n",
      "Epoch 13/41\n",
      "50/50 [==============================] - 6s 117ms/step - loss: 2.6315e-04 - accuracy: 1.0000 - val_loss: 0.0045 - val_accuracy: 0.9975\n",
      "Epoch 14/41\n",
      "50/50 [==============================] - 6s 129ms/step - loss: 2.3217e-04 - accuracy: 1.0000 - val_loss: 0.0043 - val_accuracy: 0.9975\n",
      "Epoch 15/41\n",
      "50/50 [==============================] - 8s 156ms/step - loss: 2.0892e-04 - accuracy: 1.0000 - val_loss: 0.0044 - val_accuracy: 0.9975\n",
      "Epoch 16/41\n",
      "50/50 [==============================] - 6s 117ms/step - loss: 1.8406e-04 - accuracy: 1.0000 - val_loss: 0.0044 - val_accuracy: 0.9975\n",
      "Epoch 17/41\n",
      "50/50 [==============================] - 8s 154ms/step - loss: 1.6881e-04 - accuracy: 1.0000 - val_loss: 0.0041 - val_accuracy: 0.9975\n",
      "Epoch 18/41\n",
      "50/50 [==============================] - 6s 116ms/step - loss: 1.5084e-04 - accuracy: 1.0000 - val_loss: 0.0044 - val_accuracy: 0.9975\n",
      "Epoch 19/41\n",
      "50/50 [==============================] - 6s 130ms/step - loss: 1.3926e-04 - accuracy: 1.0000 - val_loss: 0.0043 - val_accuracy: 0.9975\n",
      "Epoch 20/41\n",
      "50/50 [==============================] - 6s 118ms/step - loss: 1.2813e-04 - accuracy: 1.0000 - val_loss: 0.0043 - val_accuracy: 0.9975\n",
      "Epoch 21/41\n",
      "50/50 [==============================] - 7s 130ms/step - loss: 1.1898e-04 - accuracy: 1.0000 - val_loss: 0.0042 - val_accuracy: 0.9975\n",
      "Epoch 22/41\n",
      "50/50 [==============================] - 6s 117ms/step - loss: 1.1005e-04 - accuracy: 1.0000 - val_loss: 0.0042 - val_accuracy: 0.9975\n",
      "Epoch 23/41\n",
      "50/50 [==============================] - 7s 133ms/step - loss: 1.0385e-04 - accuracy: 1.0000 - val_loss: 0.0043 - val_accuracy: 0.9975\n",
      "Epoch 24/41\n",
      "50/50 [==============================] - 7s 149ms/step - loss: 9.6632e-05 - accuracy: 1.0000 - val_loss: 0.0040 - val_accuracy: 0.9975\n",
      "Epoch 25/41\n",
      "50/50 [==============================] - 6s 123ms/step - loss: 9.2487e-05 - accuracy: 1.0000 - val_loss: 0.0041 - val_accuracy: 0.9975\n",
      "Epoch 26/41\n",
      "50/50 [==============================] - 7s 134ms/step - loss: 8.6191e-05 - accuracy: 1.0000 - val_loss: 0.0041 - val_accuracy: 0.9975\n",
      "Epoch 27/41\n",
      "50/50 [==============================] - 6s 119ms/step - loss: 8.1334e-05 - accuracy: 1.0000 - val_loss: 0.0040 - val_accuracy: 0.9975\n",
      "Epoch 28/41\n",
      "50/50 [==============================] - 7s 142ms/step - loss: 7.7520e-05 - accuracy: 1.0000 - val_loss: 0.0041 - val_accuracy: 0.9975\n",
      "Epoch 29/41\n",
      "50/50 [==============================] - 6s 120ms/step - loss: 7.3322e-05 - accuracy: 1.0000 - val_loss: 0.0040 - val_accuracy: 0.9975\n",
      "Epoch 30/41\n",
      "50/50 [==============================] - 7s 134ms/step - loss: 6.9729e-05 - accuracy: 1.0000 - val_loss: 0.0041 - val_accuracy: 0.9975\n",
      "Epoch 31/41\n",
      "50/50 [==============================] - 6s 125ms/step - loss: 6.6737e-05 - accuracy: 1.0000 - val_loss: 0.0040 - val_accuracy: 0.9975\n",
      "Epoch 32/41\n",
      "50/50 [==============================] - 7s 134ms/step - loss: 6.3678e-05 - accuracy: 1.0000 - val_loss: 0.0040 - val_accuracy: 0.9975\n",
      "Epoch 33/41\n",
      "50/50 [==============================] - 7s 151ms/step - loss: 6.0941e-05 - accuracy: 1.0000 - val_loss: 0.0040 - val_accuracy: 0.9975\n",
      "Epoch 34/41\n",
      "50/50 [==============================] - 6s 118ms/step - loss: 5.8614e-05 - accuracy: 1.0000 - val_loss: 0.0040 - val_accuracy: 0.9975\n",
      "Epoch 35/41\n",
      "50/50 [==============================] - 7s 131ms/step - loss: 5.6477e-05 - accuracy: 1.0000 - val_loss: 0.0040 - val_accuracy: 0.9975\n",
      "Epoch 36/41\n",
      "50/50 [==============================] - 6s 129ms/step - loss: 5.4139e-05 - accuracy: 1.0000 - val_loss: 0.0040 - val_accuracy: 0.9975\n",
      "Epoch 37/41\n",
      "50/50 [==============================] - 7s 150ms/step - loss: 5.2270e-05 - accuracy: 1.0000 - val_loss: 0.0039 - val_accuracy: 0.9975\n",
      "Epoch 38/41\n",
      "50/50 [==============================] - 6s 119ms/step - loss: 5.0279e-05 - accuracy: 1.0000 - val_loss: 0.0040 - val_accuracy: 0.9975\n",
      "Epoch 39/41\n",
      "50/50 [==============================] - 7s 133ms/step - loss: 4.8563e-05 - accuracy: 1.0000 - val_loss: 0.0040 - val_accuracy: 0.9975\n",
      "Epoch 40/41\n",
      "50/50 [==============================] - 6s 118ms/step - loss: 4.6878e-05 - accuracy: 1.0000 - val_loss: 0.0040 - val_accuracy: 0.9975\n",
      "Epoch 41/41\n",
      "50/50 [==============================] - 7s 131ms/step - loss: 4.5335e-05 - accuracy: 1.0000 - val_loss: 0.0039 - val_accuracy: 0.9975\n"
     ]
    }
   ],
   "source": [
    "hist = model.fit(training_set, epochs = 41, validation_data = test_set)"
   ]
  },
  {
   "cell_type": "code",
   "execution_count": null,
   "metadata": {
    "id": "E19Z60LTOz6J"
   },
   "outputs": [],
   "source": [
    "trainAcc = [100 * x for x in hist.history['accuracy']]\n",
    "testAcc = [100 * x for x in hist.history['val_accuracy']]"
   ]
  },
  {
   "cell_type": "code",
   "execution_count": null,
   "metadata": {
    "colab": {
     "base_uri": "https://localhost:8080/",
     "height": 464
    },
    "executionInfo": {
     "elapsed": 494,
     "status": "ok",
     "timestamp": 1718495248032,
     "user": {
      "displayName": "zeeshan ahmad",
      "userId": "09790783261567949831"
     },
     "user_tz": 240
    },
    "id": "fgAsarUoUmG-",
    "outputId": "5b39d299-b713-4129-ddbf-3db8a8651d52"
   },
   "outputs": [
    {
     "data": {
      "image/png": "[encoded data removed]",
      "text/plain": [
       "<Figure size 1800x600 with 2 Axes>"
      ]
     },
     "metadata": {},
     "output_type": "display_data"
    }
   ],
   "source": [
    "fig,ax = plt.subplots(1,2,figsize=(18,6))\n",
    "\n",
    "ax[0].plot(hist.history['loss'], 'g', lw = 3, label = 'Train')\n",
    "ax[0].set_xlabel('Epochs', fontsize = 15)\n",
    "ax[0].set_ylabel('Loss', fontsize = 15)\n",
    "ax[0].legend(fontsize = 15)\n",
    "ax[0].set_title('Training Loss', fontsize = 15)\n",
    "\n",
    "\n",
    "ax[1].plot(trainAcc, label ='Train', lw = 3)\n",
    "ax[1].plot(testAcc, label ='Test', lw = 3)\n",
    "ax[1].set_xlabel('Epochs', fontsize = 15)\n",
    "ax[1].set_ylabel('Accuracy (%)', fontsize = 15)\n",
    "ax[1].set_ylim([10,110])\n",
    "ax[1].set_title(f'Train Accuracy: {trainAcc[-1]:.2f}% \\n Test Accuracy: {testAcc[-1]:.2f}%', fontsize = 15)\n",
    "ax[1].legend(fontsize = 15)\n",
    "\n",
    "plt.show()"
   ]
  },
  {
   "cell_type": "code",
   "execution_count": null,
   "metadata": {
    "id": "llZrWN7UUmG_"
   },
   "outputs": [],
   "source": []
  }
 ],
 "metadata": {
  "colab": {
   "provenance": []
  },
  "kernelspec": {
   "display_name": "Python 3",
   "name": "python3"
  },
  "language_info": {
   "codemirror_mode": {
    "name": "ipython",
    "version": 3
   },
   "file_extension": ".py",
   "mimetype": "text/x-python",
   "name": "python",
   "nbconvert_exporter": "python",
   "pygments_lexer": "ipython3",
   "version": "3.9.7"
  }
 },
 "nbformat": 4,
 "nbformat_minor": 0
}
