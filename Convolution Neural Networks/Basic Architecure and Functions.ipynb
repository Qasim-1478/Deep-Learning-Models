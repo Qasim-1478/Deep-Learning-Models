{
 "cells": [
  {
   "cell_type": "markdown",
   "metadata": {
    "id": "DvKsaBoteYtl"
   },
   "source": [
    "**Simple Architecture of a CNN:**"
   ]
  },
  {
   "cell_type": "markdown",
   "metadata": {
    "id": "dOVZDJtjenFf"
   },
   "source": [
    "Image --> Convolution and ReLU --> Pooling --> Fully Connected Layer --> Classification"
   ]
  },
  {
   "cell_type": "code",
   "execution_count": 1,
   "metadata": {
    "id": "HaWwNH6ce8qL"
   },
   "outputs": [],
   "source": [
    "import torch\n",
    "import torch.nn as nn\n",
    "import numpy as np\n",
    "import matplotlib.pyplot as plt"
   ]
  },
  {
   "cell_type": "markdown",
   "metadata": {
    "id": "Y7TkmfQOfGS2"
   },
   "source": [
    "**2D Convolution**"
   ]
  },
  {
   "cell_type": "code",
   "execution_count": 2,
   "metadata": {
    "id": "5k8u3yR8fU3Y"
   },
   "outputs": [],
   "source": [
    "# Size of the image (No. of samples, channels, width, height)\n",
    "img = (1,3,64,64)\n",
    "imgT = torch.rand(img) # Image as the pytorch tensor"
   ]
  },
  {
   "cell_type": "code",
   "execution_count": 3,
   "metadata": {
    "id": "VhfIvGNsfrDO"
   },
   "outputs": [],
   "source": [
    "#Setting the parameters and creating instance\n",
    "in_channels  = 3 # RGB\n",
    "out_channels = 10 # Number of kernels\n",
    "kernel_size  = 5\n",
    "stride   = 1\n",
    "padding  = 1\n",
    "\n",
    "convLayer = nn.Conv2d(in_channels, out_channels, kernel_size, stride, padding)"
   ]
  },
  {
   "cell_type": "code",
   "execution_count": 4,
   "metadata": {
    "colab": {
     "base_uri": "https://localhost:8080/"
    },
    "id": "h1Dz8O0Wf2zy",
    "outputId": "0532a918-61e7-4e76-f584-44f0ce789add"
   },
   "outputs": [
    {
     "name": "stdout",
     "output_type": "stream",
     "text": [
      "torch.Size([1, 10, 62, 62])\n"
     ]
    }
   ],
   "source": [
    "out_convLayer = convLayer(imgT)\n",
    "print(out_convLayer.shape)  # N x Channels (depth) x width x height"
   ]
  },
  {
   "cell_type": "markdown",
   "metadata": {
    "id": "Btc7fz03gDJC"
   },
   "source": [
    "**Reversing/Transposing the convolution (used in AutoEncoders)**\n"
   ]
  },
  {
   "cell_type": "code",
   "execution_count": 5,
   "metadata": {
    "colab": {
     "base_uri": "https://localhost:8080/"
    },
    "id": "4QmPdXengNy_",
    "outputId": "a7fc8c2d-31b0-4ae7-a7f7-193bf3f33d8d"
   },
   "outputs": [
    {
     "name": "stdout",
     "output_type": "stream",
     "text": [
      "torch.Size([1, 3, 64, 64])\n"
     ]
    }
   ],
   "source": [
    "in_channels  = 10\n",
    "out_channels = 3\n",
    "kernel_size  = 5\n",
    "stride   = 1\n",
    "padding  = 1\n",
    "\n",
    "conv_Transpose_Layer = nn.ConvTranspose2d(in_channels, out_channels, kernel_size, stride, padding)\n",
    "out_conv_Transpose_Layer = conv_Transpose_Layer(out_convLayer)\n",
    "print(out_conv_Transpose_Layer.shape)"
   ]
  },
  {
   "cell_type": "markdown",
   "metadata": {
    "id": "zFoyjGpzgfGD"
   },
   "source": [
    "**Max Pooling**"
   ]
  },
  {
   "cell_type": "code",
   "execution_count": 8,
   "metadata": {
    "colab": {
     "base_uri": "https://localhost:8080/"
    },
    "id": "dPooDG06giZk",
    "outputId": "2621eb9b-af4e-4777-969b-a00b1b0907ed"
   },
   "outputs": [
    {
     "name": "stdout",
     "output_type": "stream",
     "text": [
      "torch.Size([1, 10, 62, 62])\n",
      "torch.Size([1, 10, 31, 31])\n"
     ]
    }
   ],
   "source": [
    "kernel_size = 2\n",
    "stride = 2\n",
    "\n",
    "max_p = nn.MaxPool2d(kernel_size, stride)\n",
    "print(out_convLayer.shape) # Before\n",
    "\n",
    "\n",
    "out_max_p = max_p(out_convLayer)\n",
    "print(out_max_p.shape) #After"
   ]
  },
  {
   "cell_type": "markdown",
   "metadata": {
    "id": "MlGpLYWlhDoD"
   },
   "source": [
    "**Flattening**"
   ]
  },
  {
   "cell_type": "code",
   "execution_count": 9,
   "metadata": {
    "colab": {
     "base_uri": "https://localhost:8080/"
    },
    "id": "azaRocYMhHQa",
    "outputId": "ddc9a91e-df32-4e5b-bdaa-bbbafea3d94d"
   },
   "outputs": [
    {
     "name": "stdout",
     "output_type": "stream",
     "text": [
      "torch.Size([1, 9610])\n"
     ]
    }
   ],
   "source": [
    "input = torch.rand(1, 10, 31, 31)\n",
    "out = torch.flatten(input, 1)  # torch.flatten(input tensor, dim)\n",
    "print(out.shape)    # (1,  10 * 31 * 31)"
   ]
  }
 ],
 "metadata": {
  "accelerator": "GPU",
  "colab": {
   "gpuType": "T4",
   "provenance": []
  },
  "kernelspec": {
   "display_name": "Python 3",
   "name": "python3"
  },
  "language_info": {
   "name": "python"
  }
 },
 "nbformat": 4,
 "nbformat_minor": 0
}
